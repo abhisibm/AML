{
 "cells": [
  {
   "cell_type": "markdown",
   "metadata": {},
   "source": [
    "# Network Analysis for Anti-Money Laundering\n"
   ]
  },
  {
   "cell_type": "markdown",
   "metadata": {},
   "source": [
    "<h2>Importing Libraries</h2>"
   ]
  },
  {
   "cell_type": "code",
   "execution_count": 2,
   "metadata": {},
   "outputs": [],
   "source": [
    "import pandas as pd\n",
    "import networkx as nx\n",
    "from pyvis import network as net\n",
    "import matplotlib.pyplot as plt\n",
    "%matplotlib inline\n",
    "pd.options.display.float_format = '{:,.0f}'.format"
   ]
  },
  {
   "cell_type": "markdown",
   "metadata": {},
   "source": [
    "## Import Dataset and use networkx and pyvis on small dataset"
   ]
  },
  {
   "cell_type": "code",
   "execution_count": 6,
   "metadata": {},
   "outputs": [
    {
     "data": {
      "text/html": [
       "<div>\n",
       "<style scoped>\n",
       "    .dataframe tbody tr th:only-of-type {\n",
       "        vertical-align: middle;\n",
       "    }\n",
       "\n",
       "    .dataframe tbody tr th {\n",
       "        vertical-align: top;\n",
       "    }\n",
       "\n",
       "    .dataframe thead th {\n",
       "        text-align: right;\n",
       "    }\n",
       "</style>\n",
       "<table border=\"1\" class=\"dataframe\">\n",
       "  <thead>\n",
       "    <tr style=\"text-align: right;\">\n",
       "      <th></th>\n",
       "      <th>SENDER_ACCOUNT_ID</th>\n",
       "      <th>RECEIVER_ACCOUNT_ID</th>\n",
       "      <th>TX_AMOUNT</th>\n",
       "    </tr>\n",
       "  </thead>\n",
       "  <tbody>\n",
       "    <tr>\n",
       "      <th>0</th>\n",
       "      <td>7366</td>\n",
       "      <td>8662</td>\n",
       "      <td>65</td>\n",
       "    </tr>\n",
       "    <tr>\n",
       "      <th>1</th>\n",
       "      <td>9245</td>\n",
       "      <td>7121</td>\n",
       "      <td>1,043</td>\n",
       "    </tr>\n",
       "    <tr>\n",
       "      <th>2</th>\n",
       "      <td>6427</td>\n",
       "      <td>9245</td>\n",
       "      <td>501</td>\n",
       "    </tr>\n",
       "    <tr>\n",
       "      <th>3</th>\n",
       "      <td>7515</td>\n",
       "      <td>8255</td>\n",
       "      <td>587</td>\n",
       "    </tr>\n",
       "    <tr>\n",
       "      <th>4</th>\n",
       "      <td>7515</td>\n",
       "      <td>8255</td>\n",
       "      <td>587</td>\n",
       "    </tr>\n",
       "    <tr>\n",
       "      <th>...</th>\n",
       "      <td>...</td>\n",
       "      <td>...</td>\n",
       "      <td>...</td>\n",
       "    </tr>\n",
       "    <tr>\n",
       "      <th>1845</th>\n",
       "      <td>6427</td>\n",
       "      <td>9245</td>\n",
       "      <td>501</td>\n",
       "    </tr>\n",
       "    <tr>\n",
       "      <th>1846</th>\n",
       "      <td>7515</td>\n",
       "      <td>8255</td>\n",
       "      <td>587</td>\n",
       "    </tr>\n",
       "    <tr>\n",
       "      <th>1847</th>\n",
       "      <td>7515</td>\n",
       "      <td>8255</td>\n",
       "      <td>587</td>\n",
       "    </tr>\n",
       "    <tr>\n",
       "      <th>1848</th>\n",
       "      <td>6427</td>\n",
       "      <td>9245</td>\n",
       "      <td>501</td>\n",
       "    </tr>\n",
       "    <tr>\n",
       "      <th>1849</th>\n",
       "      <td>7366</td>\n",
       "      <td>6847</td>\n",
       "      <td>21,474,836</td>\n",
       "    </tr>\n",
       "  </tbody>\n",
       "</table>\n",
       "<p>1850 rows × 3 columns</p>\n",
       "</div>"
      ],
      "text/plain": [
       "     SENDER_ACCOUNT_ID RECEIVER_ACCOUNT_ID  TX_AMOUNT\n",
       "0                 7366                8662         65\n",
       "1                 9245                7121      1,043\n",
       "2                 6427                9245        501\n",
       "3                 7515                8255        587\n",
       "4                 7515                8255        587\n",
       "...                ...                 ...        ...\n",
       "1845              6427                9245        501\n",
       "1846              7515                8255        587\n",
       "1847              7515                8255        587\n",
       "1848              6427                9245        501\n",
       "1849              7366                6847 21,474,836\n",
       "\n",
       "[1850 rows x 3 columns]"
      ]
     },
     "execution_count": 6,
     "metadata": {},
     "output_type": "execute_result"
    }
   ],
   "source": [
    "txn_small = pd.read_csv('D:/Users/ABHISHEK/Documents/Python/ForGithub/AML/transactions_sample.csv', usecols=['SENDER_ACCOUNT_ID','RECEIVER_ACCOUNT_ID','TX_AMOUNT'], dtype='object')\n",
    "txn_small['TX_AMOUNT'] = txn_small['TX_AMOUNT'].astype(float)\n",
    "txn_small"
   ]
  },
  {
   "cell_type": "markdown",
   "metadata": {},
   "source": [
    "## Transaction Summary for Each Node Pair"
   ]
  },
  {
   "cell_type": "code",
   "execution_count": 7,
   "metadata": {},
   "outputs": [
    {
     "data": {
      "text/html": [
       "<div>\n",
       "<style scoped>\n",
       "    .dataframe tbody tr th:only-of-type {\n",
       "        vertical-align: middle;\n",
       "    }\n",
       "\n",
       "    .dataframe tbody tr th {\n",
       "        vertical-align: top;\n",
       "    }\n",
       "\n",
       "    .dataframe thead th {\n",
       "        text-align: right;\n",
       "    }\n",
       "</style>\n",
       "<table border=\"1\" class=\"dataframe\">\n",
       "  <thead>\n",
       "    <tr style=\"text-align: right;\">\n",
       "      <th></th>\n",
       "      <th>source</th>\n",
       "      <th>target</th>\n",
       "      <th>agg_txn_count</th>\n",
       "      <th>agg_txn_amt</th>\n",
       "    </tr>\n",
       "  </thead>\n",
       "  <tbody>\n",
       "    <tr>\n",
       "      <th>0</th>\n",
       "      <td>6427</td>\n",
       "      <td>8264</td>\n",
       "      <td>1</td>\n",
       "      <td>4</td>\n",
       "    </tr>\n",
       "    <tr>\n",
       "      <th>1</th>\n",
       "      <td>6427</td>\n",
       "      <td>9245</td>\n",
       "      <td>177</td>\n",
       "      <td>88,751</td>\n",
       "    </tr>\n",
       "    <tr>\n",
       "      <th>2</th>\n",
       "      <td>7366</td>\n",
       "      <td>1332</td>\n",
       "      <td>2</td>\n",
       "      <td>2,357,413</td>\n",
       "    </tr>\n",
       "    <tr>\n",
       "      <th>3</th>\n",
       "      <td>7366</td>\n",
       "      <td>5463</td>\n",
       "      <td>2</td>\n",
       "      <td>1,527,734</td>\n",
       "    </tr>\n",
       "    <tr>\n",
       "      <th>4</th>\n",
       "      <td>7366</td>\n",
       "      <td>5717</td>\n",
       "      <td>2</td>\n",
       "      <td>344,658</td>\n",
       "    </tr>\n",
       "    <tr>\n",
       "      <th>...</th>\n",
       "      <td>...</td>\n",
       "      <td>...</td>\n",
       "      <td>...</td>\n",
       "      <td>...</td>\n",
       "    </tr>\n",
       "    <tr>\n",
       "      <th>103</th>\n",
       "      <td>9628</td>\n",
       "      <td>9917</td>\n",
       "      <td>20</td>\n",
       "      <td>2,230</td>\n",
       "    </tr>\n",
       "    <tr>\n",
       "      <th>104</th>\n",
       "      <td>9628</td>\n",
       "      <td>9961</td>\n",
       "      <td>20</td>\n",
       "      <td>2,230</td>\n",
       "    </tr>\n",
       "    <tr>\n",
       "      <th>105</th>\n",
       "      <td>9628</td>\n",
       "      <td>9973</td>\n",
       "      <td>20</td>\n",
       "      <td>2,230</td>\n",
       "    </tr>\n",
       "    <tr>\n",
       "      <th>106</th>\n",
       "      <td>9628</td>\n",
       "      <td>9974</td>\n",
       "      <td>20</td>\n",
       "      <td>2,230</td>\n",
       "    </tr>\n",
       "    <tr>\n",
       "      <th>107</th>\n",
       "      <td>9628</td>\n",
       "      <td>9988</td>\n",
       "      <td>20</td>\n",
       "      <td>2,230</td>\n",
       "    </tr>\n",
       "  </tbody>\n",
       "</table>\n",
       "<p>108 rows × 4 columns</p>\n",
       "</div>"
      ],
      "text/plain": [
       "    source target  agg_txn_count  agg_txn_amt\n",
       "0     6427   8264              1            4\n",
       "1     6427   9245            177       88,751\n",
       "2     7366   1332              2    2,357,413\n",
       "3     7366   5463              2    1,527,734\n",
       "4     7366   5717              2      344,658\n",
       "..     ...    ...            ...          ...\n",
       "103   9628   9917             20        2,230\n",
       "104   9628   9961             20        2,230\n",
       "105   9628   9973             20        2,230\n",
       "106   9628   9974             20        2,230\n",
       "107   9628   9988             20        2,230\n",
       "\n",
       "[108 rows x 4 columns]"
      ]
     },
     "execution_count": 7,
     "metadata": {},
     "output_type": "execute_result"
    }
   ],
   "source": [
    "edge_small = txn_small.groupby(['SENDER_ACCOUNT_ID', 'RECEIVER_ACCOUNT_ID'],as_index=False).agg({'TX_AMOUNT':['count','sum']})\n",
    "edge_small.columns = ['source','target','agg_txn_count','agg_txn_amt']\n",
    "edge_small"
   ]
  },
  {
   "cell_type": "markdown",
   "metadata": {},
   "source": [
    "## Import Transactions to Networkx"
   ]
  },
  {
   "cell_type": "code",
   "execution_count": 9,
   "metadata": {},
   "outputs": [],
   "source": [
    "G = nx.from_pandas_edgelist(edge_small, source='source', target='target')"
   ]
  },
  {
   "cell_type": "code",
   "execution_count": 10,
   "metadata": {},
   "outputs": [
    {
     "data": {
      "text/plain": [
       "['6427', '8264', '9245', '7366', '1332']"
      ]
     },
     "execution_count": 10,
     "metadata": {},
     "output_type": "execute_result"
    }
   ],
   "source": [
    "# Show the first 5 node of G\n",
    "list(G.nodes)[0:5]\n"
   ]
  },
  {
   "cell_type": "code",
   "execution_count": 11,
   "metadata": {},
   "outputs": [
    {
     "data": {
      "text/plain": [
       "[('6427', '8264'),\n",
       " ('6427', '9245'),\n",
       " ('9245', '9056'),\n",
       " ('9245', '1651'),\n",
       " ('9245', '2483')]"
      ]
     },
     "execution_count": 11,
     "metadata": {},
     "output_type": "execute_result"
    }
   ],
   "source": [
    "# Show the first 5 edge of G\n",
    "list(G.edges)[0:5]"
   ]
  },
  {
   "cell_type": "code",
   "execution_count": 12,
   "metadata": {},
   "outputs": [
    {
     "data": {
      "text/plain": [
       "[('6427', {}), ('8264', {}), ('9245', {}), ('7366', {}), ('1332', {})]"
      ]
     },
     "execution_count": 12,
     "metadata": {},
     "output_type": "execute_result"
    }
   ],
   "source": [
    "# Show the first 5 node of G with all attributes\n",
    "list(G.nodes(data=True))[0:5]"
   ]
  },
  {
   "cell_type": "code",
   "execution_count": 13,
   "metadata": {},
   "outputs": [
    {
     "data": {
      "text/plain": [
       "[('6427', '8264', {}),\n",
       " ('6427', '9245', {}),\n",
       " ('9245', '9056', {}),\n",
       " ('9245', '1651', {}),\n",
       " ('9245', '2483', {})]"
      ]
     },
     "execution_count": 13,
     "metadata": {},
     "output_type": "execute_result"
    }
   ],
   "source": [
    "# Show the first 5 edge of G with all attributes\n",
    "list(G.edges(data=True))[0:5]"
   ]
  },
  {
   "cell_type": "markdown",
   "metadata": {},
   "source": [
    "## Network layout"
   ]
  },
  {
   "cell_type": "code",
   "execution_count": 14,
   "metadata": {},
   "outputs": [
    {
     "data": {
      "image/png": "[encoded data removed]",
      "text/plain": [
       "<Figure size 800x600 with 1 Axes>"
      ]
     },
     "metadata": {},
     "output_type": "display_data"
    }
   ],
   "source": [
    "# Networkx Default Layout\n",
    "plt.figure(figsize=(8,6))\n",
    "nx.draw(G)\n",
    "plt.show()"
   ]
  },
  {
   "cell_type": "code",
   "execution_count": 32,
   "metadata": {},
   "outputs": [
    {
     "name": "stdout",
     "output_type": "stream",
     "text": [
      "Warning: When  cdn_resources is 'local' jupyter notebook has issues displaying graphics on chrome/safari. Use cdn_resources='in_line' or cdn_resources='remote' if you have issues viewing graphics in a notebook.\n",
      "G.html\n"
     ]
    },
    {
     "data": {
      "text/html": [
       "\n",
       "        <iframe\n",
       "            width=\"1000px\"\n",
       "            height=\"1000px\"\n",
       "            src=\"G.html\"\n",
       "            frameborder=\"0\"\n",
       "            allowfullscreen\n",
       "            \n",
       "        ></iframe>\n",
       "        "
      ],
      "text/plain": [
       "<IPython.lib.display.IFrame at 0x27b4bbb80d0>"
      ]
     },
     "execution_count": 32,
     "metadata": {},
     "output_type": "execute_result"
    }
   ],
   "source": [
    "# Pyvis Default Layout\n",
    "nt = net.Network('1000px', '1000px', directed=True, notebook = True)\n",
    "nt.from_nx(G)\n",
    "nt.show('G.html')"
   ]
  },
  {
   "cell_type": "markdown",
   "metadata": {},
   "source": [
    "<h3>Create function for drawing network graph</h3>"
   ]
  },
  {
   "cell_type": "code",
   "execution_count": 93,
   "metadata": {},
   "outputs": [],
   "source": [
    "from IPython.display import display, HTML\n",
    "def show_graph(graph):\n",
    "    nt = net.Network('1000px', '1000px', directed=True, notebook = True, cdn_resources='remote')\n",
    "    nt.from_nx(graph)\n",
    "    html = nt.generate_html()\n",
    "    with open(\"graph.html\", mode='w', encoding='utf-8') as fp:\n",
    "        fp.write(html)\n",
    "        display(HTML(html))\n",
    "   #nt.show(filename)"
   ]
  },
  {
   "cell_type": "markdown",
   "metadata": {},
   "source": [
    "<h2>Setting Node Attributes</h2>"
   ]
  },
  {
   "cell_type": "markdown",
   "metadata": {},
   "source": [
    "<h3>Set the node size according to the degree (number of connections) of node</h3>"
   ]
  },
  {
   "cell_type": "code",
   "execution_count": 94,
   "metadata": {},
   "outputs": [
    {
     "data": {
      "text/plain": [
       "[('6427', 2), ('8264', 1), ('9245', 24), ('7366', 13), ('1332', 1)]"
      ]
     },
     "execution_count": 94,
     "metadata": {},
     "output_type": "execute_result"
    }
   ],
   "source": [
    "list(G.degree)[0:5]"
   ]
  },
  {
   "cell_type": "code",
   "execution_count": 95,
   "metadata": {},
   "outputs": [],
   "source": [
    "degree_dict_G = dict(G.degree)\n",
    "nx.set_node_attributes(G, degree_dict_G, 'value')"
   ]
  },
  {
   "cell_type": "code",
   "execution_count": 106,
   "metadata": {},
   "outputs": [
    {
     "data": {
      "text/plain": [
       "[('6427',\n",
       "  {'size': 10,\n",
       "   'value': 2,\n",
       "   'title': 'id: 6427\\ndegree: 2\\nneighbor: 8264,9245'}),\n",
       " ('8264',\n",
       "  {'size': 10, 'value': 1, 'title': 'id: 8264\\ndegree: 1\\nneighbor: 6427'}),\n",
       " ('9245',\n",
       "  {'size': 10,\n",
       "   'value': 24,\n",
       "   'title': 'id: 9245\\ndegree: 24\\nneighbor: 6427,9056,1651,2483,2681,3221,3339,335,4043,4626,6663,7121,7464,7983,8169,8606,8652,8994,9522,9532,9693,9800,9869,9964'}),\n",
       " ('7366',\n",
       "  {'size': 10,\n",
       "   'value': 13,\n",
       "   'title': 'id: 7366\\ndegree: 13\\nneighbor: 1332,5463,5717,5776,6847,7368,7507,8182,8662,9500,9628,9892,9056'}),\n",
       " ('1332',\n",
       "  {'size': 10, 'value': 1, 'title': 'id: 1332\\ndegree: 1\\nneighbor: 7366'})]"
      ]
     },
     "execution_count": 106,
     "metadata": {},
     "output_type": "execute_result"
    }
   ],
   "source": [
    "list(G.nodes(data=True))[0:5]"
   ]
  },
  {
   "cell_type": "code",
   "execution_count": 97,
   "metadata": {},
   "outputs": [
    {
     "data": {
      "text/html": [
       "<html>\n",
       "    <head>\n",
       "        <meta charset=\"utf-8\">\n",
       "        \n",
       "            <script>function neighbourhoodHighlight(params) {\n",
       "  // console.log(\"in nieghbourhoodhighlight\");\n",
       "  allNodes = nodes.get({ returnType: \"Object\" });\n",
       "  // originalNodes = JSON.parse(JSON.stringify(allNodes));\n",
       "  // if something is selected:\n",
       "  if (params.nodes.length > 0) {\n",
       "    highlightActive = true;\n",
       "    var i, j;\n",
       "    var selectedNode = params.nodes[0];\n",
       "    var degrees = 2;\n",
       "\n",
       "    // mark all nodes as hard to read.\n",
       "    for (let nodeId in allNodes) {\n",
       "      // nodeColors[nodeId] = allNodes[nodeId].color;\n",
       "      allNodes[nodeId].color = \"rgba(200,200,200,0.5)\";\n",
       "      if (allNodes[nodeId].hiddenLabel === undefined) {\n",
       "        allNodes[nodeId].hiddenLabel = allNodes[nodeId].label;\n",
       "        allNodes[nodeId].label = undefined;\n",
       "      }\n",
       "    }\n",
       "    var connectedNodes = network.getConnectedNodes(selectedNode);\n",
       "    var allConnectedNodes = [];\n",
       "\n",
       "    // get the second degree nodes\n",
       "    for (i = 1; i < degrees; i++) {\n",
       "      for (j = 0; j < connectedNodes.length; j++) {\n",
       "        allConnectedNodes = allConnectedNodes.concat(\n",
       "          network.getConnectedNodes(connectedNodes[j])\n",
       "        );\n",
       "      }\n",
       "    }\n",
       "\n",
       "    // all second degree nodes get a different color and their label back\n",
       "    for (i = 0; i < allConnectedNodes.length; i++) {\n",
       "      // allNodes[allConnectedNodes[i]].color = \"pink\";\n",
       "      allNodes[allConnectedNodes[i]].color = \"rgba(150,150,150,0.75)\";\n",
       "      if (allNodes[allConnectedNodes[i]].hiddenLabel !== undefined) {\n",
       "        allNodes[allConnectedNodes[i]].label =\n",
       "          allNodes[allConnectedNodes[i]].hiddenLabel;\n",
       "        allNodes[allConnectedNodes[i]].hiddenLabel = undefined;\n",
       "      }\n",
       "    }\n",
       "\n",
       "    // all first degree nodes get their own color and their label back\n",
       "    for (i = 0; i < connectedNodes.length; i++) {\n",
       "      // allNodes[connectedNodes[i]].color = undefined;\n",
       "      allNodes[connectedNodes[i]].color = nodeColors[connectedNodes[i]];\n",
       "      if (allNodes[connectedNodes[i]].hiddenLabel !== undefined) {\n",
       "        allNodes[connectedNodes[i]].label =\n",
       "          allNodes[connectedNodes[i]].hiddenLabel;\n",
       "        allNodes[connectedNodes[i]].hiddenLabel = undefined;\n",
       "      }\n",
       "    }\n",
       "\n",
       "    // the main node gets its own color and its label back.\n",
       "    // allNodes[selectedNode].color = undefined;\n",
       "    allNodes[selectedNode].color = nodeColors[selectedNode];\n",
       "    if (allNodes[selectedNode].hiddenLabel !== undefined) {\n",
       "      allNodes[selectedNode].label = allNodes[selectedNode].hiddenLabel;\n",
       "      allNodes[selectedNode].hiddenLabel = undefined;\n",
       "    }\n",
       "  } else if (highlightActive === true) {\n",
       "    // console.log(\"highlightActive was true\");\n",
       "    // reset all nodes\n",
       "    for (let nodeId in allNodes) {\n",
       "      // allNodes[nodeId].color = \"purple\";\n",
       "      allNodes[nodeId].color = nodeColors[nodeId];\n",
       "      // delete allNodes[nodeId].color;\n",
       "      if (allNodes[nodeId].hiddenLabel !== undefined) {\n",
       "        allNodes[nodeId].label = allNodes[nodeId].hiddenLabel;\n",
       "        allNodes[nodeId].hiddenLabel = undefined;\n",
       "      }\n",
       "    }\n",
       "    highlightActive = false;\n",
       "  }\n",
       "\n",
       "  // transform the object into an array\n",
       "  var updateArray = [];\n",
       "  if (params.nodes.length > 0) {\n",
       "    for (let nodeId in allNodes) {\n",
       "      if (allNodes.hasOwnProperty(nodeId)) {\n",
       "        // console.log(allNodes[nodeId]);\n",
       "        updateArray.push(allNodes[nodeId]);\n",
       "      }\n",
       "    }\n",
       "    nodes.update(updateArray);\n",
       "  } else {\n",
       "    // console.log(\"Nothing was selected\");\n",
       "    for (let nodeId in allNodes) {\n",
       "      if (allNodes.hasOwnProperty(nodeId)) {\n",
       "        // console.log(allNodes[nodeId]);\n",
       "        // allNodes[nodeId].color = {};\n",
       "        updateArray.push(allNodes[nodeId]);\n",
       "      }\n",
       "    }\n",
       "    nodes.update(updateArray);\n",
       "  }\n",
       "}\n",
       "\n",
       "function filterHighlight(params) {\n",
       "  allNodes = nodes.get({ returnType: \"Object\" });\n",
       "  // if something is selected:\n",
       "  if (params.nodes.length > 0) {\n",
       "    filterActive = true;\n",
       "    let selectedNodes = params.nodes;\n",
       "\n",
       "    // hiding all nodes and saving the label\n",
       "    for (let nodeId in allNodes) {\n",
       "      allNodes[nodeId].hidden = true;\n",
       "      if (allNodes[nodeId].savedLabel === undefined) {\n",
       "        allNodes[nodeId].savedLabel = allNodes[nodeId].label;\n",
       "        allNodes[nodeId].label = undefined;\n",
       "      }\n",
       "    }\n",
       "\n",
       "    for (let i=0; i < selectedNodes.length; i++) {\n",
       "      allNodes[selectedNodes[i]].hidden = false;\n",
       "      if (allNodes[selectedNodes[i]].savedLabel !== undefined) {\n",
       "        allNodes[selectedNodes[i]].label = allNodes[selectedNodes[i]].savedLabel;\n",
       "        allNodes[selectedNodes[i]].savedLabel = undefined;\n",
       "      }\n",
       "    }\n",
       "\n",
       "  } else if (filterActive === true) {\n",
       "    // reset all nodes\n",
       "    for (let nodeId in allNodes) {\n",
       "      allNodes[nodeId].hidden = false;\n",
       "      if (allNodes[nodeId].savedLabel !== undefined) {\n",
       "        allNodes[nodeId].label = allNodes[nodeId].savedLabel;\n",
       "        allNodes[nodeId].savedLabel = undefined;\n",
       "      }\n",
       "    }\n",
       "    filterActive = false;\n",
       "  }\n",
       "\n",
       "  // transform the object into an array\n",
       "  var updateArray = [];\n",
       "  if (params.nodes.length > 0) {\n",
       "    for (let nodeId in allNodes) {\n",
       "      if (allNodes.hasOwnProperty(nodeId)) {\n",
       "        updateArray.push(allNodes[nodeId]);\n",
       "      }\n",
       "    }\n",
       "    nodes.update(updateArray);\n",
       "  } else {\n",
       "    for (let nodeId in allNodes) {\n",
       "      if (allNodes.hasOwnProperty(nodeId)) {\n",
       "        updateArray.push(allNodes[nodeId]);\n",
       "      }\n",
       "    }\n",
       "    nodes.update(updateArray);\n",
       "  }\n",
       "}\n",
       "\n",
       "function selectNode(nodes) {\n",
       "  network.selectNodes(nodes);\n",
       "  neighbourhoodHighlight({ nodes: nodes });\n",
       "  return nodes;\n",
       "}\n",
       "\n",
       "function selectNodes(nodes) {\n",
       "  network.selectNodes(nodes);\n",
       "  filterHighlight({nodes: nodes});\n",
       "  return nodes;\n",
       "}\n",
       "\n",
       "function highlightFilter(filter) {\n",
       "  let selectedNodes = []\n",
       "  let selectedProp = filter['property']\n",
       "  if (filter['item'] === 'node') {\n",
       "    let allNodes = nodes.get({ returnType: \"Object\" });\n",
       "    for (let nodeId in allNodes) {\n",
       "      if (allNodes[nodeId][selectedProp] && filter['value'].includes((allNodes[nodeId][selectedProp]).toString())) {\n",
       "        selectedNodes.push(nodeId)\n",
       "      }\n",
       "    }\n",
       "  }\n",
       "  else if (filter['item'] === 'edge'){\n",
       "    let allEdges = edges.get({returnType: 'object'});\n",
       "    // check if the selected property exists for selected edge and select the nodes connected to the edge\n",
       "    for (let edge in allEdges) {\n",
       "      if (allEdges[edge][selectedProp] && filter['value'].includes((allEdges[edge][selectedProp]).toString())) {\n",
       "        selectedNodes.push(allEdges[edge]['from'])\n",
       "        selectedNodes.push(allEdges[edge]['to'])\n",
       "      }\n",
       "    }\n",
       "  }\n",
       "  selectNodes(selectedNodes)\n",
       "}</script>\n",
       "            <link rel=\"stylesheet\" href=\"https://cdnjs.cloudflare.com/ajax/libs/vis-network/9.1.2/dist/dist/vis-network.min.css\" integrity=\"sha512-WgxfT5LWjfszlPHXRmBWHkV2eceiWTOBvrKCNbdgDYTHrT2AeLCGbF4sZlZw3UMN3WtL0tGUoIAKsu8mllg/XA==\" crossorigin=\"anonymous\" referrerpolicy=\"no-referrer\" />\n",
       "            <script src=\"https://cdnjs.cloudflare.com/ajax/libs/vis-network/9.1.2/dist/vis-network.min.js\" integrity=\"sha512-LnvoEWDFrqGHlHmDD2101OrLcbsfkrzoSpvtSQtxK3RMnRV0eOkhhBN2dXHKRrUU8p2DGRTk35n4O8nWSVe1mQ==\" crossorigin=\"anonymous\" referrerpolicy=\"no-referrer\"></script>\n",
       "            \n",
       "            \n",
       "            \n",
       "            \n",
       "            \n",
       "            \n",
       "\n",
       "        \n",
       "<center>\n",
       "<h1></h1>\n",
       "</center>\n",
       "\n",
       "<!-- <link rel=\"stylesheet\" href=\"../node_modules/vis/dist/vis.min.css\" type=\"text/css\" />\n",
       "<script type=\"text/javascript\" src=\"../node_modules/vis/dist/vis.js\"> </script>-->\n",
       "        <link\n",
       "          href=\"https://cdn.jsdelivr.net/npm/bootstrap@5.0.0-beta3/dist/css/bootstrap.min.css\"\n",
       "          rel=\"stylesheet\"\n",
       "          integrity=\"sha384-eOJMYsd53ii+scO/bJGFsiCZc+5NDVN2yr8+0RDqr0Ql0h+rP48ckxlpbzKgwra6\"\n",
       "          crossorigin=\"anonymous\"\n",
       "        />\n",
       "        <script\n",
       "          src=\"https://cdn.jsdelivr.net/npm/bootstrap@5.0.0-beta3/dist/js/bootstrap.bundle.min.js\"\n",
       "          integrity=\"sha384-JEW9xMcG8R+pH31jmWH6WWP0WintQrMb4s7ZOdauHnUtxwoG2vI5DkLtS3qm9Ekf\"\n",
       "          crossorigin=\"anonymous\"\n",
       "        ></script>\n",
       "\n",
       "\n",
       "        <center>\n",
       "          <h1></h1>\n",
       "        </center>\n",
       "        <style type=\"text/css\">\n",
       "\n",
       "             #mynetwork {\n",
       "                 width: 1000px;\n",
       "                 height: 1000px;\n",
       "                 background-color: #ffffff;\n",
       "                 border: 1px solid lightgray;\n",
       "                 position: relative;\n",
       "                 float: left;\n",
       "             }\n",
       "\n",
       "             \n",
       "             #loadingBar {\n",
       "                 position:absolute;\n",
       "                 top:0px;\n",
       "                 left:0px;\n",
       "                 width: 1000px;\n",
       "                 height: 1000px;\n",
       "                 background-color:rgba(200,200,200,0.8);\n",
       "                 -webkit-transition: all 0.5s ease;\n",
       "                 -moz-transition: all 0.5s ease;\n",
       "                 -ms-transition: all 0.5s ease;\n",
       "                 -o-transition: all 0.5s ease;\n",
       "                 transition: all 0.5s ease;\n",
       "                 opacity:1;\n",
       "             }\n",
       "\n",
       "             #bar {\n",
       "                 position:absolute;\n",
       "                 top:0px;\n",
       "                 left:0px;\n",
       "                 width:20px;\n",
       "                 height:20px;\n",
       "                 margin:auto auto auto auto;\n",
       "                 border-radius:11px;\n",
       "                 border:2px solid rgba(30,30,30,0.05);\n",
       "                 background: rgb(0, 173, 246); /* Old browsers */\n",
       "                 box-shadow: 2px 0px 4px rgba(0,0,0,0.4);\n",
       "             }\n",
       "\n",
       "             #border {\n",
       "                 position:absolute;\n",
       "                 top:10px;\n",
       "                 left:10px;\n",
       "                 width:500px;\n",
       "                 height:23px;\n",
       "                 margin:auto auto auto auto;\n",
       "                 box-shadow: 0px 0px 4px rgba(0,0,0,0.2);\n",
       "                 border-radius:10px;\n",
       "             }\n",
       "\n",
       "             #text {\n",
       "                 position:absolute;\n",
       "                 top:8px;\n",
       "                 left:530px;\n",
       "                 width:30px;\n",
       "                 height:50px;\n",
       "                 margin:auto auto auto auto;\n",
       "                 font-size:22px;\n",
       "                 color: #000000;\n",
       "             }\n",
       "\n",
       "             div.outerBorder {\n",
       "                 position:relative;\n",
       "                 top:400px;\n",
       "                 width:600px;\n",
       "                 height:44px;\n",
       "                 margin:auto auto auto auto;\n",
       "                 border:8px solid rgba(0,0,0,0.1);\n",
       "                 background: rgb(252,252,252); /* Old browsers */\n",
       "                 background: -moz-linear-gradient(top,  rgba(252,252,252,1) 0%, rgba(237,237,237,1) 100%); /* FF3.6+ */\n",
       "                 background: -webkit-gradient(linear, left top, left bottom, color-stop(0%,rgba(252,252,252,1)), color-stop(100%,rgba(237,237,237,1))); /* Chrome,Safari4+ */\n",
       "                 background: -webkit-linear-gradient(top,  rgba(252,252,252,1) 0%,rgba(237,237,237,1) 100%); /* Chrome10+,Safari5.1+ */\n",
       "                 background: -o-linear-gradient(top,  rgba(252,252,252,1) 0%,rgba(237,237,237,1) 100%); /* Opera 11.10+ */\n",
       "                 background: -ms-linear-gradient(top,  rgba(252,252,252,1) 0%,rgba(237,237,237,1) 100%); /* IE10+ */\n",
       "                 background: linear-gradient(to bottom,  rgba(252,252,252,1) 0%,rgba(237,237,237,1) 100%); /* W3C */\n",
       "                 filter: progid:DXImageTransform.Microsoft.gradient( startColorstr='#fcfcfc', endColorstr='#ededed',GradientType=0 ); /* IE6-9 */\n",
       "                 border-radius:72px;\n",
       "                 box-shadow: 0px 0px 10px rgba(0,0,0,0.2);\n",
       "             }\n",
       "             \n",
       "\n",
       "             \n",
       "\n",
       "             \n",
       "        </style>\n",
       "    </head>\n",
       "\n",
       "\n",
       "    <body>\n",
       "        <div class=\"card\" style=\"width: 100%\">\n",
       "            \n",
       "            \n",
       "            <div id=\"mynetwork\" class=\"card-body\"></div>\n",
       "        </div>\n",
       "\n",
       "        \n",
       "            <div id=\"loadingBar\">\n",
       "              <div class=\"outerBorder\">\n",
       "                <div id=\"text\">0%</div>\n",
       "                <div id=\"border\">\n",
       "                  <div id=\"bar\"></div>\n",
       "                </div>\n",
       "              </div>\n",
       "            </div>\n",
       "        \n",
       "        \n",
       "\n",
       "        <script type=\"text/javascript\">\n",
       "\n",
       "              // initialize global variables.\n",
       "              var edges;\n",
       "              var nodes;\n",
       "              var allNodes;\n",
       "              var allEdges;\n",
       "              var nodeColors;\n",
       "              var originalNodes;\n",
       "              var network;\n",
       "              var container;\n",
       "              var options, data;\n",
       "              var filter = {\n",
       "                  item : '',\n",
       "                  property : '',\n",
       "                  value : []\n",
       "              };\n",
       "\n",
       "              \n",
       "\n",
       "              \n",
       "\n",
       "              // This method is responsible for drawing the graph, returns the drawn network\n",
       "              function drawGraph() {\n",
       "                  var container = document.getElementById('mynetwork');\n",
       "\n",
       "                  \n",
       "\n",
       "                  // parsing and collecting nodes and edges from the python\n",
       "                  nodes = new vis.DataSet([{\"color\": \"#97c2fc\", \"id\": \"6427\", \"label\": \"6427\", \"shape\": \"dot\", \"size\": 10, \"title\": \"id: 6427\", \"value\": 2}, {\"color\": \"#97c2fc\", \"id\": \"8264\", \"label\": \"8264\", \"shape\": \"dot\", \"size\": 10, \"title\": \"id: 8264\", \"value\": 1}, {\"color\": \"#97c2fc\", \"id\": \"9245\", \"label\": \"9245\", \"shape\": \"dot\", \"size\": 10, \"title\": \"id: 9245\", \"value\": 24}, {\"color\": \"#97c2fc\", \"id\": \"9056\", \"label\": \"9056\", \"shape\": \"dot\", \"size\": 10, \"title\": \"id: 9056\", \"value\": 20}, {\"color\": \"#97c2fc\", \"id\": \"1651\", \"label\": \"1651\", \"shape\": \"dot\", \"size\": 10, \"title\": \"id: 1651\", \"value\": 1}, {\"color\": \"#97c2fc\", \"id\": \"2483\", \"label\": \"2483\", \"shape\": \"dot\", \"size\": 10, \"title\": \"id: 2483\", \"value\": 1}, {\"color\": \"#97c2fc\", \"id\": \"2681\", \"label\": \"2681\", \"shape\": \"dot\", \"size\": 10, \"title\": \"id: 2681\", \"value\": 1}, {\"color\": \"#97c2fc\", \"id\": \"3221\", \"label\": \"3221\", \"shape\": \"dot\", \"size\": 10, \"title\": \"id: 3221\", \"value\": 1}, {\"color\": \"#97c2fc\", \"id\": \"3339\", \"label\": \"3339\", \"shape\": \"dot\", \"size\": 10, \"title\": \"id: 3339\", \"value\": 1}, {\"color\": \"#97c2fc\", \"id\": \"335\", \"label\": \"335\", \"shape\": \"dot\", \"size\": 10, \"title\": \"id: 335\", \"value\": 1}, {\"color\": \"#97c2fc\", \"id\": \"4043\", \"label\": \"4043\", \"shape\": \"dot\", \"size\": 10, \"title\": \"id: 4043\", \"value\": 1}, {\"color\": \"#97c2fc\", \"id\": \"4626\", \"label\": \"4626\", \"shape\": \"dot\", \"size\": 10, \"title\": \"id: 4626\", \"value\": 1}, {\"color\": \"#97c2fc\", \"id\": \"6663\", \"label\": \"6663\", \"shape\": \"dot\", \"size\": 10, \"title\": \"id: 6663\", \"value\": 1}, {\"color\": \"#97c2fc\", \"id\": \"7121\", \"label\": \"7121\", \"shape\": \"dot\", \"size\": 10, \"title\": \"id: 7121\", \"value\": 1}, {\"color\": \"#97c2fc\", \"id\": \"7464\", \"label\": \"7464\", \"shape\": \"dot\", \"size\": 10, \"title\": \"id: 7464\", \"value\": 1}, {\"color\": \"#97c2fc\", \"id\": \"7983\", \"label\": \"7983\", \"shape\": \"dot\", \"size\": 10, \"title\": \"id: 7983\", \"value\": 1}, {\"color\": \"#97c2fc\", \"id\": \"8169\", \"label\": \"8169\", \"shape\": \"dot\", \"size\": 10, \"title\": \"id: 8169\", \"value\": 1}, {\"color\": \"#97c2fc\", \"id\": \"8606\", \"label\": \"8606\", \"shape\": \"dot\", \"size\": 10, \"title\": \"id: 8606\", \"value\": 1}, {\"color\": \"#97c2fc\", \"id\": \"8652\", \"label\": \"8652\", \"shape\": \"dot\", \"size\": 10, \"title\": \"id: 8652\", \"value\": 1}, {\"color\": \"#97c2fc\", \"id\": \"8994\", \"label\": \"8994\", \"shape\": \"dot\", \"size\": 10, \"title\": \"id: 8994\", \"value\": 1}, {\"color\": \"#97c2fc\", \"id\": \"9522\", \"label\": \"9522\", \"shape\": \"dot\", \"size\": 10, \"title\": \"id: 9522\", \"value\": 1}, {\"color\": \"#97c2fc\", \"id\": \"9532\", \"label\": \"9532\", \"shape\": \"dot\", \"size\": 10, \"title\": \"id: 9532\", \"value\": 1}, {\"color\": \"#97c2fc\", \"id\": \"9693\", \"label\": \"9693\", \"shape\": \"dot\", \"size\": 10, \"title\": \"id: 9693\", \"value\": 1}, {\"color\": \"#97c2fc\", \"id\": \"9800\", \"label\": \"9800\", \"shape\": \"dot\", \"size\": 10, \"title\": \"id: 9800\", \"value\": 1}, {\"color\": \"#97c2fc\", \"id\": \"9869\", \"label\": \"9869\", \"shape\": \"dot\", \"size\": 10, \"title\": \"id: 9869\", \"value\": 1}, {\"color\": \"#97c2fc\", \"id\": \"9964\", \"label\": \"9964\", \"shape\": \"dot\", \"size\": 10, \"title\": \"id: 9964\", \"value\": 1}, {\"color\": \"#97c2fc\", \"id\": \"7366\", \"label\": \"7366\", \"shape\": \"dot\", \"size\": 10, \"title\": \"id: 7366\", \"value\": 13}, {\"color\": \"#97c2fc\", \"id\": \"1332\", \"label\": \"1332\", \"shape\": \"dot\", \"size\": 10, \"title\": \"id: 1332\", \"value\": 1}, {\"color\": \"#97c2fc\", \"id\": \"5463\", \"label\": \"5463\", \"shape\": \"dot\", \"size\": 10, \"title\": \"id: 5463\", \"value\": 1}, {\"color\": \"#97c2fc\", \"id\": \"5717\", \"label\": \"5717\", \"shape\": \"dot\", \"size\": 10, \"title\": \"id: 5717\", \"value\": 1}, {\"color\": \"#97c2fc\", \"id\": \"5776\", \"label\": \"5776\", \"shape\": \"dot\", \"size\": 10, \"title\": \"id: 5776\", \"value\": 1}, {\"color\": \"#97c2fc\", \"id\": \"6847\", \"label\": \"6847\", \"shape\": \"dot\", \"size\": 10, \"title\": \"id: 6847\", \"value\": 1}, {\"color\": \"#97c2fc\", \"id\": \"7368\", \"label\": \"7368\", \"shape\": \"dot\", \"size\": 10, \"title\": \"id: 7368\", \"value\": 1}, {\"color\": \"#97c2fc\", \"id\": \"7507\", \"label\": \"7507\", \"shape\": \"dot\", \"size\": 10, \"title\": \"id: 7507\", \"value\": 1}, {\"color\": \"#97c2fc\", \"id\": \"8182\", \"label\": \"8182\", \"shape\": \"dot\", \"size\": 10, \"title\": \"id: 8182\", \"value\": 1}, {\"color\": \"#97c2fc\", \"id\": \"8662\", \"label\": \"8662\", \"shape\": \"dot\", \"size\": 10, \"title\": \"id: 8662\", \"value\": 1}, {\"color\": \"#97c2fc\", \"id\": \"9500\", \"label\": \"9500\", \"shape\": \"dot\", \"size\": 10, \"title\": \"id: 9500\", \"value\": 1}, {\"color\": \"#97c2fc\", \"id\": \"9628\", \"label\": \"9628\", \"shape\": \"dot\", \"size\": 10, \"title\": \"id: 9628\", \"value\": 34}, {\"color\": \"#97c2fc\", \"id\": \"9892\", \"label\": \"9892\", \"shape\": \"dot\", \"size\": 10, \"title\": \"id: 9892\", \"value\": 1}, {\"color\": \"#97c2fc\", \"id\": \"1585\", \"label\": \"1585\", \"shape\": \"dot\", \"size\": 10, \"title\": \"id: 1585\", \"value\": 1}, {\"color\": \"#97c2fc\", \"id\": \"3484\", \"label\": \"3484\", \"shape\": \"dot\", \"size\": 10, \"title\": \"id: 3484\", \"value\": 1}, {\"color\": \"#97c2fc\", \"id\": \"3661\", \"label\": \"3661\", \"shape\": \"dot\", \"size\": 10, \"title\": \"id: 3661\", \"value\": 1}, {\"color\": \"#97c2fc\", \"id\": \"4136\", \"label\": \"4136\", \"shape\": \"dot\", \"size\": 10, \"title\": \"id: 4136\", \"value\": 1}, {\"color\": \"#97c2fc\", \"id\": \"4189\", \"label\": \"4189\", \"shape\": \"dot\", \"size\": 10, \"title\": \"id: 4189\", \"value\": 1}, {\"color\": \"#97c2fc\", \"id\": \"4454\", \"label\": \"4454\", \"shape\": \"dot\", \"size\": 10, \"title\": \"id: 4454\", \"value\": 1}, {\"color\": \"#97c2fc\", \"id\": \"5833\", \"label\": \"5833\", \"shape\": \"dot\", \"size\": 10, \"title\": \"id: 5833\", \"value\": 1}, {\"color\": \"#97c2fc\", \"id\": \"5845\", \"label\": \"5845\", \"shape\": \"dot\", \"size\": 10, \"title\": \"id: 5845\", \"value\": 1}, {\"color\": \"#97c2fc\", \"id\": \"6408\", \"label\": \"6408\", \"shape\": \"dot\", \"size\": 10, \"title\": \"id: 6408\", \"value\": 1}, {\"color\": \"#97c2fc\", \"id\": \"6415\", \"label\": \"6415\", \"shape\": \"dot\", \"size\": 10, \"title\": \"id: 6415\", \"value\": 1}, {\"color\": \"#97c2fc\", \"id\": \"6620\", \"label\": \"6620\", \"shape\": \"dot\", \"size\": 10, \"title\": \"id: 6620\", \"value\": 1}, {\"color\": \"#97c2fc\", \"id\": \"6672\", \"label\": \"6672\", \"shape\": \"dot\", \"size\": 10, \"title\": \"id: 6672\", \"value\": 1}, {\"color\": \"#97c2fc\", \"id\": \"6812\", \"label\": \"6812\", \"shape\": \"dot\", \"size\": 10, \"title\": \"id: 6812\", \"value\": 1}, {\"color\": \"#97c2fc\", \"id\": \"7350\", \"label\": \"7350\", \"shape\": \"dot\", \"size\": 10, \"title\": \"id: 7350\", \"value\": 1}, {\"color\": \"#97c2fc\", \"id\": \"7515\", \"label\": \"7515\", \"shape\": \"dot\", \"size\": 10, \"title\": \"id: 7515\", \"value\": 3}, {\"color\": \"#97c2fc\", \"id\": \"7939\", \"label\": \"7939\", \"shape\": \"dot\", \"size\": 10, \"title\": \"id: 7939\", \"value\": 1}, {\"color\": \"#97c2fc\", \"id\": \"807\", \"label\": \"807\", \"shape\": \"dot\", \"size\": 10, \"title\": \"id: 807\", \"value\": 1}, {\"color\": \"#97c2fc\", \"id\": \"8151\", \"label\": \"8151\", \"shape\": \"dot\", \"size\": 10, \"title\": \"id: 8151\", \"value\": 1}, {\"color\": \"#97c2fc\", \"id\": \"8252\", \"label\": \"8252\", \"shape\": \"dot\", \"size\": 10, \"title\": \"id: 8252\", \"value\": 1}, {\"color\": \"#97c2fc\", \"id\": \"8297\", \"label\": \"8297\", \"shape\": \"dot\", \"size\": 10, \"title\": \"id: 8297\", \"value\": 1}, {\"color\": \"#97c2fc\", \"id\": \"8669\", \"label\": \"8669\", \"shape\": \"dot\", \"size\": 10, \"title\": \"id: 8669\", \"value\": 1}, {\"color\": \"#97c2fc\", \"id\": \"9219\", \"label\": \"9219\", \"shape\": \"dot\", \"size\": 10, \"title\": \"id: 9219\", \"value\": 1}, {\"color\": \"#97c2fc\", \"id\": \"9284\", \"label\": \"9284\", \"shape\": \"dot\", \"size\": 10, \"title\": \"id: 9284\", \"value\": 1}, {\"color\": \"#97c2fc\", \"id\": \"9423\", \"label\": \"9423\", \"shape\": \"dot\", \"size\": 10, \"title\": \"id: 9423\", \"value\": 1}, {\"color\": \"#97c2fc\", \"id\": \"9455\", \"label\": \"9455\", \"shape\": \"dot\", \"size\": 10, \"title\": \"id: 9455\", \"value\": 1}, {\"color\": \"#97c2fc\", \"id\": \"9676\", \"label\": \"9676\", \"shape\": \"dot\", \"size\": 10, \"title\": \"id: 9676\", \"value\": 1}, {\"color\": \"#97c2fc\", \"id\": \"9720\", \"label\": \"9720\", \"shape\": \"dot\", \"size\": 10, \"title\": \"id: 9720\", \"value\": 1}, {\"color\": \"#97c2fc\", \"id\": \"9825\", \"label\": \"9825\", \"shape\": \"dot\", \"size\": 10, \"title\": \"id: 9825\", \"value\": 1}, {\"color\": \"#97c2fc\", \"id\": \"9917\", \"label\": \"9917\", \"shape\": \"dot\", \"size\": 10, \"title\": \"id: 9917\", \"value\": 1}, {\"color\": \"#97c2fc\", \"id\": \"9961\", \"label\": \"9961\", \"shape\": \"dot\", \"size\": 10, \"title\": \"id: 9961\", \"value\": 1}, {\"color\": \"#97c2fc\", \"id\": \"9973\", \"label\": \"9973\", \"shape\": \"dot\", \"size\": 10, \"title\": \"id: 9973\", \"value\": 1}, {\"color\": \"#97c2fc\", \"id\": \"9974\", \"label\": \"9974\", \"shape\": \"dot\", \"size\": 10, \"title\": \"id: 9974\", \"value\": 1}, {\"color\": \"#97c2fc\", \"id\": \"9988\", \"label\": \"9988\", \"shape\": \"dot\", \"size\": 10, \"title\": \"id: 9988\", \"value\": 1}, {\"color\": \"#97c2fc\", \"id\": \"8255\", \"label\": \"8255\", \"shape\": \"dot\", \"size\": 10, \"title\": \"id: 8255\", \"value\": 1}, {\"color\": \"#97c2fc\", \"id\": \"8682\", \"label\": \"8682\", \"shape\": \"dot\", \"size\": 10, \"title\": \"id: 8682\", \"value\": 17}, {\"color\": \"#97c2fc\", \"id\": \"2612\", \"label\": \"2612\", \"shape\": \"dot\", \"size\": 10, \"title\": \"id: 2612\", \"value\": 1}, {\"color\": \"#97c2fc\", \"id\": \"4501\", \"label\": \"4501\", \"shape\": \"dot\", \"size\": 10, \"title\": \"id: 4501\", \"value\": 1}, {\"color\": \"#97c2fc\", \"id\": \"5071\", \"label\": \"5071\", \"shape\": \"dot\", \"size\": 10, \"title\": \"id: 5071\", \"value\": 1}, {\"color\": \"#97c2fc\", \"id\": \"5928\", \"label\": \"5928\", \"shape\": \"dot\", \"size\": 10, \"title\": \"id: 5928\", \"value\": 1}, {\"color\": \"#97c2fc\", \"id\": \"6124\", \"label\": \"6124\", \"shape\": \"dot\", \"size\": 10, \"title\": \"id: 6124\", \"value\": 1}, {\"color\": \"#97c2fc\", \"id\": \"6420\", \"label\": \"6420\", \"shape\": \"dot\", \"size\": 10, \"title\": \"id: 6420\", \"value\": 1}, {\"color\": \"#97c2fc\", \"id\": \"6521\", \"label\": \"6521\", \"shape\": \"dot\", \"size\": 10, \"title\": \"id: 6521\", \"value\": 1}, {\"color\": \"#97c2fc\", \"id\": \"7176\", \"label\": \"7176\", \"shape\": \"dot\", \"size\": 10, \"title\": \"id: 7176\", \"value\": 1}, {\"color\": \"#97c2fc\", \"id\": \"720\", \"label\": \"720\", \"shape\": \"dot\", \"size\": 10, \"title\": \"id: 720\", \"value\": 1}, {\"color\": \"#97c2fc\", \"id\": \"7285\", \"label\": \"7285\", \"shape\": \"dot\", \"size\": 10, \"title\": \"id: 7285\", \"value\": 1}, {\"color\": \"#97c2fc\", \"id\": \"8511\", \"label\": \"8511\", \"shape\": \"dot\", \"size\": 10, \"title\": \"id: 8511\", \"value\": 1}, {\"color\": \"#97c2fc\", \"id\": \"9464\", \"label\": \"9464\", \"shape\": \"dot\", \"size\": 10, \"title\": \"id: 9464\", \"value\": 1}, {\"color\": \"#97c2fc\", \"id\": \"9512\", \"label\": \"9512\", \"shape\": \"dot\", \"size\": 10, \"title\": \"id: 9512\", \"value\": 1}, {\"color\": \"#97c2fc\", \"id\": \"9706\", \"label\": \"9706\", \"shape\": \"dot\", \"size\": 10, \"title\": \"id: 9706\", \"value\": 1}, {\"color\": \"#97c2fc\", \"id\": \"9932\", \"label\": \"9932\", \"shape\": \"dot\", \"size\": 10, \"title\": \"id: 9932\", \"value\": 1}, {\"color\": \"#97c2fc\", \"id\": \"9945\", \"label\": \"9945\", \"shape\": \"dot\", \"size\": 10, \"title\": \"id: 9945\", \"value\": 1}, {\"color\": \"#97c2fc\", \"id\": \"1127\", \"label\": \"1127\", \"shape\": \"dot\", \"size\": 10, \"title\": \"id: 1127\", \"value\": 1}, {\"color\": \"#97c2fc\", \"id\": \"172\", \"label\": \"172\", \"shape\": \"dot\", \"size\": 10, \"title\": \"id: 172\", \"value\": 1}, {\"color\": \"#97c2fc\", \"id\": \"2788\", \"label\": \"2788\", \"shape\": \"dot\", \"size\": 10, \"title\": \"id: 2788\", \"value\": 1}, {\"color\": \"#97c2fc\", \"id\": \"3144\", \"label\": \"3144\", \"shape\": \"dot\", \"size\": 10, \"title\": \"id: 3144\", \"value\": 1}, {\"color\": \"#97c2fc\", \"id\": \"3667\", \"label\": \"3667\", \"shape\": \"dot\", \"size\": 10, \"title\": \"id: 3667\", \"value\": 1}, {\"color\": \"#97c2fc\", \"id\": \"4508\", \"label\": \"4508\", \"shape\": \"dot\", \"size\": 10, \"title\": \"id: 4508\", \"value\": 1}, {\"color\": \"#97c2fc\", \"id\": \"4813\", \"label\": \"4813\", \"shape\": \"dot\", \"size\": 10, \"title\": \"id: 4813\", \"value\": 1}, {\"color\": \"#97c2fc\", \"id\": \"5864\", \"label\": \"5864\", \"shape\": \"dot\", \"size\": 10, \"title\": \"id: 5864\", \"value\": 1}, {\"color\": \"#97c2fc\", \"id\": \"6339\", \"label\": \"6339\", \"shape\": \"dot\", \"size\": 10, \"title\": \"id: 6339\", \"value\": 1}, {\"color\": \"#97c2fc\", \"id\": \"6834\", \"label\": \"6834\", \"shape\": \"dot\", \"size\": 10, \"title\": \"id: 6834\", \"value\": 1}, {\"color\": \"#97c2fc\", \"id\": \"7863\", \"label\": \"7863\", \"shape\": \"dot\", \"size\": 10, \"title\": \"id: 7863\", \"value\": 1}, {\"color\": \"#97c2fc\", \"id\": \"8371\", \"label\": \"8371\", \"shape\": \"dot\", \"size\": 10, \"title\": \"id: 8371\", \"value\": 1}, {\"color\": \"#97c2fc\", \"id\": \"8759\", \"label\": \"8759\", \"shape\": \"dot\", \"size\": 10, \"title\": \"id: 8759\", \"value\": 1}, {\"color\": \"#97c2fc\", \"id\": \"9045\", \"label\": \"9045\", \"shape\": \"dot\", \"size\": 10, \"title\": \"id: 9045\", \"value\": 1}, {\"color\": \"#97c2fc\", \"id\": \"9084\", \"label\": \"9084\", \"shape\": \"dot\", \"size\": 10, \"title\": \"id: 9084\", \"value\": 1}, {\"color\": \"#97c2fc\", \"id\": \"9746\", \"label\": \"9746\", \"shape\": \"dot\", \"size\": 10, \"title\": \"id: 9746\", \"value\": 1}, {\"color\": \"#97c2fc\", \"id\": \"9842\", \"label\": \"9842\", \"shape\": \"dot\", \"size\": 10, \"title\": \"id: 9842\", \"value\": 1}, {\"color\": \"#97c2fc\", \"id\": \"9959\", \"label\": \"9959\", \"shape\": \"dot\", \"size\": 10, \"title\": \"id: 9959\", \"value\": 1}]);\n",
       "                  edges = new vis.DataSet([{\"arrows\": \"to\", \"from\": \"6427\", \"to\": \"8264\", \"width\": 1}, {\"arrows\": \"to\", \"from\": \"6427\", \"to\": \"9245\", \"width\": 1}, {\"arrows\": \"to\", \"from\": \"9245\", \"to\": \"9056\", \"width\": 1}, {\"arrows\": \"to\", \"from\": \"9245\", \"to\": \"1651\", \"width\": 1}, {\"arrows\": \"to\", \"from\": \"9245\", \"to\": \"2483\", \"width\": 1}, {\"arrows\": \"to\", \"from\": \"9245\", \"to\": \"2681\", \"width\": 1}, {\"arrows\": \"to\", \"from\": \"9245\", \"to\": \"3221\", \"width\": 1}, {\"arrows\": \"to\", \"from\": \"9245\", \"to\": \"3339\", \"width\": 1}, {\"arrows\": \"to\", \"from\": \"9245\", \"to\": \"335\", \"width\": 1}, {\"arrows\": \"to\", \"from\": \"9245\", \"to\": \"4043\", \"width\": 1}, {\"arrows\": \"to\", \"from\": \"9245\", \"to\": \"4626\", \"width\": 1}, {\"arrows\": \"to\", \"from\": \"9245\", \"to\": \"6663\", \"width\": 1}, {\"arrows\": \"to\", \"from\": \"9245\", \"to\": \"7121\", \"width\": 1}, {\"arrows\": \"to\", \"from\": \"9245\", \"to\": \"7464\", \"width\": 1}, {\"arrows\": \"to\", \"from\": \"9245\", \"to\": \"7983\", \"width\": 1}, {\"arrows\": \"to\", \"from\": \"9245\", \"to\": \"8169\", \"width\": 1}, {\"arrows\": \"to\", \"from\": \"9245\", \"to\": \"8606\", \"width\": 1}, {\"arrows\": \"to\", \"from\": \"9245\", \"to\": \"8652\", \"width\": 1}, {\"arrows\": \"to\", \"from\": \"9245\", \"to\": \"8994\", \"width\": 1}, {\"arrows\": \"to\", \"from\": \"9245\", \"to\": \"9522\", \"width\": 1}, {\"arrows\": \"to\", \"from\": \"9245\", \"to\": \"9532\", \"width\": 1}, {\"arrows\": \"to\", \"from\": \"9245\", \"to\": \"9693\", \"width\": 1}, {\"arrows\": \"to\", \"from\": \"9245\", \"to\": \"9800\", \"width\": 1}, {\"arrows\": \"to\", \"from\": \"9245\", \"to\": \"9869\", \"width\": 1}, {\"arrows\": \"to\", \"from\": \"9245\", \"to\": \"9964\", \"width\": 1}, {\"arrows\": \"to\", \"from\": \"7366\", \"to\": \"1332\", \"width\": 1}, {\"arrows\": \"to\", \"from\": \"7366\", \"to\": \"5463\", \"width\": 1}, {\"arrows\": \"to\", \"from\": \"7366\", \"to\": \"5717\", \"width\": 1}, {\"arrows\": \"to\", \"from\": \"7366\", \"to\": \"5776\", \"width\": 1}, {\"arrows\": \"to\", \"from\": \"7366\", \"to\": \"6847\", \"width\": 1}, {\"arrows\": \"to\", \"from\": \"7366\", \"to\": \"7368\", \"width\": 1}, {\"arrows\": \"to\", \"from\": \"7366\", \"to\": \"7507\", \"width\": 1}, {\"arrows\": \"to\", \"from\": \"7366\", \"to\": \"8182\", \"width\": 1}, {\"arrows\": \"to\", \"from\": \"7366\", \"to\": \"8662\", \"width\": 1}, {\"arrows\": \"to\", \"from\": \"7366\", \"to\": \"9500\", \"width\": 1}, {\"arrows\": \"to\", \"from\": \"7366\", \"to\": \"9628\", \"width\": 1}, {\"arrows\": \"to\", \"from\": \"7366\", \"to\": \"9892\", \"width\": 1}, {\"arrows\": \"to\", \"from\": \"7366\", \"to\": \"9056\", \"width\": 1}, {\"arrows\": \"to\", \"from\": \"9628\", \"to\": \"1585\", \"width\": 1}, {\"arrows\": \"to\", \"from\": \"9628\", \"to\": \"3484\", \"width\": 1}, {\"arrows\": \"to\", \"from\": \"9628\", \"to\": \"3661\", \"width\": 1}, {\"arrows\": \"to\", \"from\": \"9628\", \"to\": \"4136\", \"width\": 1}, {\"arrows\": \"to\", \"from\": \"9628\", \"to\": \"4189\", \"width\": 1}, {\"arrows\": \"to\", \"from\": \"9628\", \"to\": \"4454\", \"width\": 1}, {\"arrows\": \"to\", \"from\": \"9628\", \"to\": \"5833\", \"width\": 1}, {\"arrows\": \"to\", \"from\": \"9628\", \"to\": \"5845\", \"width\": 1}, {\"arrows\": \"to\", \"from\": \"9628\", \"to\": \"6408\", \"width\": 1}, {\"arrows\": \"to\", \"from\": \"9628\", \"to\": \"6415\", \"width\": 1}, {\"arrows\": \"to\", \"from\": \"9628\", \"to\": \"6620\", \"width\": 1}, {\"arrows\": \"to\", \"from\": \"9628\", \"to\": \"6672\", \"width\": 1}, {\"arrows\": \"to\", \"from\": \"9628\", \"to\": \"6812\", \"width\": 1}, {\"arrows\": \"to\", \"from\": \"9628\", \"to\": \"7350\", \"width\": 1}, {\"arrows\": \"to\", \"from\": \"9628\", \"to\": \"7515\", \"width\": 1}, {\"arrows\": \"to\", \"from\": \"9628\", \"to\": \"7939\", \"width\": 1}, {\"arrows\": \"to\", \"from\": \"9628\", \"to\": \"807\", \"width\": 1}, {\"arrows\": \"to\", \"from\": \"9628\", \"to\": \"8151\", \"width\": 1}, {\"arrows\": \"to\", \"from\": \"9628\", \"to\": \"8252\", \"width\": 1}, {\"arrows\": \"to\", \"from\": \"9628\", \"to\": \"8297\", \"width\": 1}, {\"arrows\": \"to\", \"from\": \"9628\", \"to\": \"8669\", \"width\": 1}, {\"arrows\": \"to\", \"from\": \"9628\", \"to\": \"9219\", \"width\": 1}, {\"arrows\": \"to\", \"from\": \"9628\", \"to\": \"9284\", \"width\": 1}, {\"arrows\": \"to\", \"from\": \"9628\", \"to\": \"9423\", \"width\": 1}, {\"arrows\": \"to\", \"from\": \"9628\", \"to\": \"9455\", \"width\": 1}, {\"arrows\": \"to\", \"from\": \"9628\", \"to\": \"9676\", \"width\": 1}, {\"arrows\": \"to\", \"from\": \"9628\", \"to\": \"9720\", \"width\": 1}, {\"arrows\": \"to\", \"from\": \"9628\", \"to\": \"9825\", \"width\": 1}, {\"arrows\": \"to\", \"from\": \"9628\", \"to\": \"9917\", \"width\": 1}, {\"arrows\": \"to\", \"from\": \"9628\", \"to\": \"9961\", \"width\": 1}, {\"arrows\": \"to\", \"from\": \"9628\", \"to\": \"9973\", \"width\": 1}, {\"arrows\": \"to\", \"from\": \"9628\", \"to\": \"9974\", \"width\": 1}, {\"arrows\": \"to\", \"from\": \"9628\", \"to\": \"9988\", \"width\": 1}, {\"arrows\": \"to\", \"from\": \"7515\", \"to\": \"8255\", \"width\": 1}, {\"arrows\": \"to\", \"from\": \"7515\", \"to\": \"8682\", \"width\": 1}, {\"arrows\": \"to\", \"from\": \"8682\", \"to\": \"2612\", \"width\": 1}, {\"arrows\": \"to\", \"from\": \"8682\", \"to\": \"4501\", \"width\": 1}, {\"arrows\": \"to\", \"from\": \"8682\", \"to\": \"5071\", \"width\": 1}, {\"arrows\": \"to\", \"from\": \"8682\", \"to\": \"5928\", \"width\": 1}, {\"arrows\": \"to\", \"from\": \"8682\", \"to\": \"6124\", \"width\": 1}, {\"arrows\": \"to\", \"from\": \"8682\", \"to\": \"6420\", \"width\": 1}, {\"arrows\": \"to\", \"from\": \"8682\", \"to\": \"6521\", \"width\": 1}, {\"arrows\": \"to\", \"from\": \"8682\", \"to\": \"7176\", \"width\": 1}, {\"arrows\": \"to\", \"from\": \"8682\", \"to\": \"720\", \"width\": 1}, {\"arrows\": \"to\", \"from\": \"8682\", \"to\": \"7285\", \"width\": 1}, {\"arrows\": \"to\", \"from\": \"8682\", \"to\": \"8511\", \"width\": 1}, {\"arrows\": \"to\", \"from\": \"8682\", \"to\": \"9464\", \"width\": 1}, {\"arrows\": \"to\", \"from\": \"8682\", \"to\": \"9512\", \"width\": 1}, {\"arrows\": \"to\", \"from\": \"8682\", \"to\": \"9706\", \"width\": 1}, {\"arrows\": \"to\", \"from\": \"8682\", \"to\": \"9932\", \"width\": 1}, {\"arrows\": \"to\", \"from\": \"8682\", \"to\": \"9945\", \"width\": 1}, {\"arrows\": \"to\", \"from\": \"9056\", \"to\": \"1127\", \"width\": 1}, {\"arrows\": \"to\", \"from\": \"9056\", \"to\": \"172\", \"width\": 1}, {\"arrows\": \"to\", \"from\": \"9056\", \"to\": \"2788\", \"width\": 1}, {\"arrows\": \"to\", \"from\": \"9056\", \"to\": \"3144\", \"width\": 1}, {\"arrows\": \"to\", \"from\": \"9056\", \"to\": \"3667\", \"width\": 1}, {\"arrows\": \"to\", \"from\": \"9056\", \"to\": \"4508\", \"width\": 1}, {\"arrows\": \"to\", \"from\": \"9056\", \"to\": \"4813\", \"width\": 1}, {\"arrows\": \"to\", \"from\": \"9056\", \"to\": \"5864\", \"width\": 1}, {\"arrows\": \"to\", \"from\": \"9056\", \"to\": \"6339\", \"width\": 1}, {\"arrows\": \"to\", \"from\": \"9056\", \"to\": \"6834\", \"width\": 1}, {\"arrows\": \"to\", \"from\": \"9056\", \"to\": \"7863\", \"width\": 1}, {\"arrows\": \"to\", \"from\": \"9056\", \"to\": \"8371\", \"width\": 1}, {\"arrows\": \"to\", \"from\": \"9056\", \"to\": \"8759\", \"width\": 1}, {\"arrows\": \"to\", \"from\": \"9056\", \"to\": \"9045\", \"width\": 1}, {\"arrows\": \"to\", \"from\": \"9056\", \"to\": \"9084\", \"width\": 1}, {\"arrows\": \"to\", \"from\": \"9056\", \"to\": \"9746\", \"width\": 1}, {\"arrows\": \"to\", \"from\": \"9056\", \"to\": \"9842\", \"width\": 1}, {\"arrows\": \"to\", \"from\": \"9056\", \"to\": \"9959\", \"width\": 1}]);\n",
       "\n",
       "                  nodeColors = {};\n",
       "                  allNodes = nodes.get({ returnType: \"Object\" });\n",
       "                  for (nodeId in allNodes) {\n",
       "                    nodeColors[nodeId] = allNodes[nodeId].color;\n",
       "                  }\n",
       "                  allEdges = edges.get({ returnType: \"Object\" });\n",
       "                  // adding nodes and edges to the graph\n",
       "                  data = {nodes: nodes, edges: edges};\n",
       "\n",
       "                  var options = {\n",
       "    \"configure\": {\n",
       "        \"enabled\": false\n",
       "    },\n",
       "    \"edges\": {\n",
       "        \"color\": {\n",
       "            \"inherit\": true\n",
       "        },\n",
       "        \"smooth\": {\n",
       "            \"enabled\": true,\n",
       "            \"type\": \"dynamic\"\n",
       "        }\n",
       "    },\n",
       "    \"interaction\": {\n",
       "        \"dragNodes\": true,\n",
       "        \"hideEdgesOnDrag\": false,\n",
       "        \"hideNodesOnDrag\": false\n",
       "    },\n",
       "    \"physics\": {\n",
       "        \"enabled\": true,\n",
       "        \"stabilization\": {\n",
       "            \"enabled\": true,\n",
       "            \"fit\": true,\n",
       "            \"iterations\": 1000,\n",
       "            \"onlyDynamicEdges\": false,\n",
       "            \"updateInterval\": 50\n",
       "        }\n",
       "    }\n",
       "};\n",
       "\n",
       "                  \n",
       "\n",
       "\n",
       "                  \n",
       "\n",
       "                  network = new vis.Network(container, data, options);\n",
       "\n",
       "                  \n",
       "\n",
       "                  \n",
       "\n",
       "                  \n",
       "\n",
       "\n",
       "                  \n",
       "                      network.on(\"stabilizationProgress\", function(params) {\n",
       "                          document.getElementById('loadingBar').removeAttribute(\"style\");\n",
       "                          var maxWidth = 496;\n",
       "                          var minWidth = 20;\n",
       "                          var widthFactor = params.iterations/params.total;\n",
       "                          var width = Math.max(minWidth,maxWidth * widthFactor);\n",
       "                          document.getElementById('bar').style.width = width + 'px';\n",
       "                          document.getElementById('text').innerHTML = Math.round(widthFactor*100) + '%';\n",
       "                      });\n",
       "                      network.once(\"stabilizationIterationsDone\", function() {\n",
       "                          document.getElementById('text').innerHTML = '100%';\n",
       "                          document.getElementById('bar').style.width = '496px';\n",
       "                          document.getElementById('loadingBar').style.opacity = 0;\n",
       "                          // really clean the dom element\n",
       "                          setTimeout(function () {document.getElementById('loadingBar').style.display = 'none';}, 500);\n",
       "                      });\n",
       "                  \n",
       "\n",
       "                  return network;\n",
       "\n",
       "              }\n",
       "              drawGraph();\n",
       "        </script>\n",
       "    </body>\n",
       "</html>"
      ],
      "text/plain": [
       "<IPython.core.display.HTML object>"
      ]
     },
     "metadata": {},
     "output_type": "display_data"
    }
   ],
   "source": [
    "show_graph(G)"
   ]
  },
  {
   "cell_type": "markdown",
   "metadata": {},
   "source": [
    "<h3>Retrieve ID for each node and display in graph (hover on node)</h3>"
   ]
  },
  {
   "cell_type": "code",
   "execution_count": 107,
   "metadata": {},
   "outputs": [
    {
     "name": "stdout",
     "output_type": "stream",
     "text": [
      "G.html\n"
     ]
    },
    {
     "data": {
      "text/html": [
       "\n",
       "        <iframe\n",
       "            width=\"1000px\"\n",
       "            height=\"1000px\"\n",
       "            src=\"G.html\"\n",
       "            frameborder=\"0\"\n",
       "            allowfullscreen\n",
       "            \n",
       "        ></iframe>\n",
       "        "
      ],
      "text/plain": [
       "<IPython.lib.display.IFrame at 0x27b4c0974d0>"
      ]
     },
     "execution_count": 107,
     "metadata": {},
     "output_type": "execute_result"
    }
   ],
   "source": [
    "title_dict_G = {}\n",
    "for node in list(G.nodes):\n",
    "    title_dict_G[node] = f'id: {node}'\n",
    "nx.set_node_attributes(G, title_dict_G, 'title')\n",
    "#show_graph(G)\n",
    "nt = net.Network('1000px', '1000px', directed=True, notebook = True, cdn_resources='remote')\n",
    "nt.from_nx(G)\n",
    "#    html = nt.generate_html()\n",
    "#    with open(\"graph.html\", mode='w', encoding='utf-8') as fp:\n",
    "#        fp.write(html)\n",
    "#        display(HTML(html))\n",
    "nt.show('G.html')"
   ]
  },
  {
   "cell_type": "markdown",
   "metadata": {},
   "source": [
    "<h3>Retrieve neighbors for each node</h3>"
   ]
  },
  {
   "cell_type": "code",
   "execution_count": 101,
   "metadata": {},
   "outputs": [
    {
     "data": {
      "text/plain": [
       "['2612', '4501', '5071', '5928', '6124']"
      ]
     },
     "execution_count": 101,
     "metadata": {},
     "output_type": "execute_result"
    }
   ],
   "source": [
    "list(G.neighbors('8682'))[0:5]"
   ]
  },
  {
   "cell_type": "code",
   "execution_count": 102,
   "metadata": {},
   "outputs": [],
   "source": [
    "neighbor_dict_G = {}\n",
    "for node in list(G.nodes):\n",
    "    neighbor_dict_G[node] = ','.join(G.neighbors(node))"
   ]
  },
  {
   "cell_type": "markdown",
   "metadata": {},
   "source": [
    "<h3>Display ID, Degree and Neighbors in Graph (Hover on Node)</h3>"
   ]
  },
  {
   "cell_type": "code",
   "execution_count": 108,
   "metadata": {},
   "outputs": [
    {
     "name": "stdout",
     "output_type": "stream",
     "text": [
      "G.html\n"
     ]
    },
    {
     "data": {
      "text/html": [
       "\n",
       "        <iframe\n",
       "            width=\"1000px\"\n",
       "            height=\"1000px\"\n",
       "            src=\"G.html\"\n",
       "            frameborder=\"0\"\n",
       "            allowfullscreen\n",
       "            \n",
       "        ></iframe>\n",
       "        "
      ],
      "text/plain": [
       "<IPython.lib.display.IFrame at 0x27b4c45b710>"
      ]
     },
     "execution_count": 108,
     "metadata": {},
     "output_type": "execute_result"
    }
   ],
   "source": [
    "title_dict_G = {}\n",
    "for node in list(G.nodes):\n",
    "    title_dict_G[node] = f'id: {node}\\ndegree: {degree_dict_G[node]}\\nneighbor: {neighbor_dict_G[node]}'\n",
    "nx.set_node_attributes(G, title_dict_G, 'title')\n",
    "\n",
    "#show_graph(G)\n",
    "nt = net.Network('1000px', '1000px', directed=True, notebook = True, cdn_resources='remote')\n",
    "nt.from_nx(G)\n",
    "#    html = nt.generate_html()\n",
    "#    with open(\"graph.html\", mode='w', encoding='utf-8') as fp:\n",
    "#        fp.write(html)\n",
    "#        display(HTML(html))\n",
    "nt.show('G.html')"
   ]
  },
  {
   "cell_type": "markdown",
   "metadata": {},
   "source": [
    "<h2>Setting Edge Attributes</h2>"
   ]
  },
  {
   "cell_type": "code",
   "execution_count": 104,
   "metadata": {},
   "outputs": [
    {
     "data": {
      "text/html": [
       "<div>\n",
       "<style scoped>\n",
       "    .dataframe tbody tr th:only-of-type {\n",
       "        vertical-align: middle;\n",
       "    }\n",
       "\n",
       "    .dataframe tbody tr th {\n",
       "        vertical-align: top;\n",
       "    }\n",
       "\n",
       "    .dataframe thead th {\n",
       "        text-align: right;\n",
       "    }\n",
       "</style>\n",
       "<table border=\"1\" class=\"dataframe\">\n",
       "  <thead>\n",
       "    <tr style=\"text-align: right;\">\n",
       "      <th></th>\n",
       "      <th>source</th>\n",
       "      <th>target</th>\n",
       "      <th>agg_txn_count</th>\n",
       "      <th>agg_txn_amt</th>\n",
       "      <th>value</th>\n",
       "      <th>title</th>\n",
       "    </tr>\n",
       "  </thead>\n",
       "  <tbody>\n",
       "    <tr>\n",
       "      <th>0</th>\n",
       "      <td>6427</td>\n",
       "      <td>8264</td>\n",
       "      <td>1</td>\n",
       "      <td>4</td>\n",
       "      <td>4</td>\n",
       "      <td>from: 6427\\nto: 8264\\nagg_count: 1\\nagg_amount: 4</td>\n",
       "    </tr>\n",
       "    <tr>\n",
       "      <th>1</th>\n",
       "      <td>6427</td>\n",
       "      <td>9245</td>\n",
       "      <td>177</td>\n",
       "      <td>88,751</td>\n",
       "      <td>88,751</td>\n",
       "      <td>from: 6427\\nto: 9245\\nagg_count: 177\\nagg_amou...</td>\n",
       "    </tr>\n",
       "    <tr>\n",
       "      <th>2</th>\n",
       "      <td>7366</td>\n",
       "      <td>1332</td>\n",
       "      <td>2</td>\n",
       "      <td>2,357,413</td>\n",
       "      <td>2,357,413</td>\n",
       "      <td>from: 7366\\nto: 1332\\nagg_count: 2\\nagg_amount...</td>\n",
       "    </tr>\n",
       "    <tr>\n",
       "      <th>3</th>\n",
       "      <td>7366</td>\n",
       "      <td>5463</td>\n",
       "      <td>2</td>\n",
       "      <td>1,527,734</td>\n",
       "      <td>1,527,734</td>\n",
       "      <td>from: 7366\\nto: 5463\\nagg_count: 2\\nagg_amount...</td>\n",
       "    </tr>\n",
       "    <tr>\n",
       "      <th>4</th>\n",
       "      <td>7366</td>\n",
       "      <td>5717</td>\n",
       "      <td>2</td>\n",
       "      <td>344,658</td>\n",
       "      <td>344,658</td>\n",
       "      <td>from: 7366\\nto: 5717\\nagg_count: 2\\nagg_amount...</td>\n",
       "    </tr>\n",
       "  </tbody>\n",
       "</table>\n",
       "</div>"
      ],
      "text/plain": [
       "  source target  agg_txn_count  agg_txn_amt     value  \\\n",
       "0   6427   8264              1            4         4   \n",
       "1   6427   9245            177       88,751    88,751   \n",
       "2   7366   1332              2    2,357,413 2,357,413   \n",
       "3   7366   5463              2    1,527,734 1,527,734   \n",
       "4   7366   5717              2      344,658   344,658   \n",
       "\n",
       "                                               title  \n",
       "0  from: 6427\\nto: 8264\\nagg_count: 1\\nagg_amount: 4  \n",
       "1  from: 6427\\nto: 9245\\nagg_count: 177\\nagg_amou...  \n",
       "2  from: 7366\\nto: 1332\\nagg_count: 2\\nagg_amount...  \n",
       "3  from: 7366\\nto: 5463\\nagg_count: 2\\nagg_amount...  \n",
       "4  from: 7366\\nto: 5717\\nagg_count: 2\\nagg_amount...  "
      ]
     },
     "execution_count": 104,
     "metadata": {},
     "output_type": "execute_result"
    }
   ],
   "source": [
    "edge_small['value'] = edge_small['agg_txn_amt']\n",
    "edge_small['title'] = edge_small.apply(lambda df: f'from: {df.source}\\nto: {df.target}\\nagg_count: {df.agg_txn_count:,.0f}\\nagg_amount: {df.agg_txn_amt:,.0f}', axis=1)\n",
    "edge_small.head()"
   ]
  },
  {
   "cell_type": "markdown",
   "metadata": {},
   "source": [
    "<h3>Setting edge size and information to display on hover</h3>"
   ]
  },
  {
   "cell_type": "code",
   "execution_count": 109,
   "metadata": {},
   "outputs": [
    {
     "name": "stdout",
     "output_type": "stream",
     "text": [
      "G.html\n"
     ]
    },
    {
     "data": {
      "text/html": [
       "\n",
       "        <iframe\n",
       "            width=\"1000px\"\n",
       "            height=\"1000px\"\n",
       "            src=\"G.html\"\n",
       "            frameborder=\"0\"\n",
       "            allowfullscreen\n",
       "            \n",
       "        ></iframe>\n",
       "        "
      ],
      "text/plain": [
       "<IPython.lib.display.IFrame at 0x27b4b054c10>"
      ]
     },
     "execution_count": 109,
     "metadata": {},
     "output_type": "execute_result"
    }
   ],
   "source": [
    "edge_dict_G = {}\n",
    "for index, row in edge_small.iterrows():\n",
    "    edge_dict_G[tuple([row['source'], row['target']])] = {'value':row['value'], 'title':row['title']}\n",
    "nx.set_edge_attributes(G, edge_dict_G)\n",
    "\n",
    "#show_graph(G)\n",
    "nt = net.Network('1000px', '1000px', directed=True, notebook = True, cdn_resources='remote')\n",
    "nt.from_nx(G)\n",
    "#    html = nt.generate_html()\n",
    "#    with open(\"graph.html\", mode='w', encoding='utf-8') as fp:\n",
    "#        fp.write(html)\n",
    "#        display(HTML(html))\n",
    "nt.show('G.html')"
   ]
  },
  {
   "cell_type": "markdown",
   "metadata": {},
   "source": [
    "<h2>Community Detection with Large Dataset</h2>"
   ]
  },
  {
   "cell_type": "code",
   "execution_count": 111,
   "metadata": {},
   "outputs": [
    {
     "data": {
      "text/html": [
       "<div>\n",
       "<style scoped>\n",
       "    .dataframe tbody tr th:only-of-type {\n",
       "        vertical-align: middle;\n",
       "    }\n",
       "\n",
       "    .dataframe tbody tr th {\n",
       "        vertical-align: top;\n",
       "    }\n",
       "\n",
       "    .dataframe thead th {\n",
       "        text-align: right;\n",
       "    }\n",
       "</style>\n",
       "<table border=\"1\" class=\"dataframe\">\n",
       "  <thead>\n",
       "    <tr style=\"text-align: right;\">\n",
       "      <th></th>\n",
       "      <th>source</th>\n",
       "      <th>target</th>\n",
       "      <th>agg_edge_large_count</th>\n",
       "      <th>agg_edge_large_amt</th>\n",
       "      <th>value</th>\n",
       "      <th>title</th>\n",
       "    </tr>\n",
       "  </thead>\n",
       "  <tbody>\n",
       "    <tr>\n",
       "      <th>63958</th>\n",
       "      <td>9703</td>\n",
       "      <td>6059</td>\n",
       "      <td>20</td>\n",
       "      <td>2,506</td>\n",
       "      <td>2,506</td>\n",
       "      <td>from: 9703\\nto: 6059\\nagg_count: 20\\nagg_amoun...</td>\n",
       "    </tr>\n",
       "    <tr>\n",
       "      <th>38025</th>\n",
       "      <td>7369</td>\n",
       "      <td>9795</td>\n",
       "      <td>2</td>\n",
       "      <td>1,338,379</td>\n",
       "      <td>1,338,379</td>\n",
       "      <td>from: 7369\\nto: 9795\\nagg_count: 2\\nagg_amount...</td>\n",
       "    </tr>\n",
       "    <tr>\n",
       "      <th>64700</th>\n",
       "      <td>9722</td>\n",
       "      <td>9962</td>\n",
       "      <td>20</td>\n",
       "      <td>2,973</td>\n",
       "      <td>2,973</td>\n",
       "      <td>from: 9722\\nto: 9962\\nagg_count: 20\\nagg_amoun...</td>\n",
       "    </tr>\n",
       "    <tr>\n",
       "      <th>41653</th>\n",
       "      <td>7881</td>\n",
       "      <td>9751</td>\n",
       "      <td>20</td>\n",
       "      <td>5,923</td>\n",
       "      <td>5,923</td>\n",
       "      <td>from: 7881\\nto: 9751\\nagg_count: 20\\nagg_amoun...</td>\n",
       "    </tr>\n",
       "    <tr>\n",
       "      <th>23451</th>\n",
       "      <td>5376</td>\n",
       "      <td>4205</td>\n",
       "      <td>2</td>\n",
       "      <td>1,755,996</td>\n",
       "      <td>1,755,996</td>\n",
       "      <td>from: 5376\\nto: 4205\\nagg_count: 2\\nagg_amount...</td>\n",
       "    </tr>\n",
       "    <tr>\n",
       "      <th>...</th>\n",
       "      <td>...</td>\n",
       "      <td>...</td>\n",
       "      <td>...</td>\n",
       "      <td>...</td>\n",
       "      <td>...</td>\n",
       "      <td>...</td>\n",
       "    </tr>\n",
       "    <tr>\n",
       "      <th>61987</th>\n",
       "      <td>9647</td>\n",
       "      <td>9206</td>\n",
       "      <td>20</td>\n",
       "      <td>3,453</td>\n",
       "      <td>3,453</td>\n",
       "      <td>from: 9647\\nto: 9206\\nagg_count: 20\\nagg_amoun...</td>\n",
       "    </tr>\n",
       "    <tr>\n",
       "      <th>5068</th>\n",
       "      <td>2132</td>\n",
       "      <td>8921</td>\n",
       "      <td>23</td>\n",
       "      <td>701</td>\n",
       "      <td>701</td>\n",
       "      <td>from: 2132\\nto: 8921\\nagg_count: 23\\nagg_amoun...</td>\n",
       "    </tr>\n",
       "    <tr>\n",
       "      <th>21665</th>\n",
       "      <td>5185</td>\n",
       "      <td>5233</td>\n",
       "      <td>21</td>\n",
       "      <td>448</td>\n",
       "      <td>448</td>\n",
       "      <td>from: 5185\\nto: 5233\\nagg_count: 21\\nagg_amoun...</td>\n",
       "    </tr>\n",
       "    <tr>\n",
       "      <th>68701</th>\n",
       "      <td>998</td>\n",
       "      <td>275</td>\n",
       "      <td>15</td>\n",
       "      <td>5,846</td>\n",
       "      <td>5,846</td>\n",
       "      <td>from: 998\\nto: 275\\nagg_count: 15\\nagg_amount:...</td>\n",
       "    </tr>\n",
       "    <tr>\n",
       "      <th>43896</th>\n",
       "      <td>8141</td>\n",
       "      <td>7693</td>\n",
       "      <td>23</td>\n",
       "      <td>240</td>\n",
       "      <td>240</td>\n",
       "      <td>from: 8141\\nto: 7693\\nagg_count: 23\\nagg_amoun...</td>\n",
       "    </tr>\n",
       "  </tbody>\n",
       "</table>\n",
       "<p>2000 rows × 6 columns</p>\n",
       "</div>"
      ],
      "text/plain": [
       "      source target  agg_edge_large_count  agg_edge_large_amt     value  \\\n",
       "63958   9703   6059                    20               2,506     2,506   \n",
       "38025   7369   9795                     2           1,338,379 1,338,379   \n",
       "64700   9722   9962                    20               2,973     2,973   \n",
       "41653   7881   9751                    20               5,923     5,923   \n",
       "23451   5376   4205                     2           1,755,996 1,755,996   \n",
       "...      ...    ...                   ...                 ...       ...   \n",
       "61987   9647   9206                    20               3,453     3,453   \n",
       "5068    2132   8921                    23                 701       701   \n",
       "21665   5185   5233                    21                 448       448   \n",
       "68701    998    275                    15               5,846     5,846   \n",
       "43896   8141   7693                    23                 240       240   \n",
       "\n",
       "                                                   title  \n",
       "63958  from: 9703\\nto: 6059\\nagg_count: 20\\nagg_amoun...  \n",
       "38025  from: 7369\\nto: 9795\\nagg_count: 2\\nagg_amount...  \n",
       "64700  from: 9722\\nto: 9962\\nagg_count: 20\\nagg_amoun...  \n",
       "41653  from: 7881\\nto: 9751\\nagg_count: 20\\nagg_amoun...  \n",
       "23451  from: 5376\\nto: 4205\\nagg_count: 2\\nagg_amount...  \n",
       "...                                                  ...  \n",
       "61987  from: 9647\\nto: 9206\\nagg_count: 20\\nagg_amoun...  \n",
       "5068   from: 2132\\nto: 8921\\nagg_count: 23\\nagg_amoun...  \n",
       "21665  from: 5185\\nto: 5233\\nagg_count: 21\\nagg_amoun...  \n",
       "68701  from: 998\\nto: 275\\nagg_count: 15\\nagg_amount:...  \n",
       "43896  from: 8141\\nto: 7693\\nagg_count: 23\\nagg_amoun...  \n",
       "\n",
       "[2000 rows x 6 columns]"
      ]
     },
     "execution_count": 111,
     "metadata": {},
     "output_type": "execute_result"
    }
   ],
   "source": [
    "txn_full = pd.read_csv('D:/Users/ABHISHEK/Documents/Python/ForGithub/AML/transactions.csv', usecols=['SENDER_ACCOUNT_ID','RECEIVER_ACCOUNT_ID','TX_AMOUNT'], dtype='object')\n",
    "txn_full['TX_AMOUNT'] = txn_full['TX_AMOUNT'].astype(float)\n",
    "\n",
    "edge_large = txn_full.groupby(['SENDER_ACCOUNT_ID', 'RECEIVER_ACCOUNT_ID'],as_index=False).agg({'TX_AMOUNT':['count','sum']}).sample(2000, random_state=721)\n",
    "edge_large.columns = ['source','target','agg_edge_large_count','agg_edge_large_amt']\n",
    "edge_large['value'] = edge_large['agg_edge_large_amt']\n",
    "edge_large['title'] = edge_large.apply(lambda df: f'from: {df.source}\\nto: {df.target}\\nagg_count: {df.agg_edge_large_count:,.0f}\\nagg_amount: {df.agg_edge_large_amt:,.0f}', axis=1)\n",
    "\n",
    "edge_large"
   ]
  },
  {
   "cell_type": "code",
   "execution_count": 112,
   "metadata": {},
   "outputs": [],
   "source": [
    "H = nx.from_pandas_edgelist(edge_large, source='source', target='target', edge_attr=['title','value'])\n",
    "\n",
    "#Note that we add the argument \"edge_attr\" in \"from_pandas_edgelist\" so that we don't have to add edge attribute seperately."
   ]
  },
  {
   "cell_type": "code",
   "execution_count": 113,
   "metadata": {},
   "outputs": [
    {
     "data": {
      "text/plain": [
       "[('9703',\n",
       "  '6059',\n",
       "  {'title': 'from: 9703\\nto: 6059\\nagg_count: 20\\nagg_amount: 2,506',\n",
       "   'value': 2505.8}),\n",
       " ('6059',\n",
       "  '7182',\n",
       "  {'title': 'from: 6059\\nto: 7182\\nagg_count: 22\\nagg_amount: 228',\n",
       "   'value': 228.14})]"
      ]
     },
     "execution_count": 113,
     "metadata": {},
     "output_type": "execute_result"
    }
   ],
   "source": [
    "list(H.edges(data=True))[0:2]"
   ]
  },
  {
   "cell_type": "code",
   "execution_count": 116,
   "metadata": {},
   "outputs": [
    {
     "name": "stdout",
     "output_type": "stream",
     "text": [
      "Warning: When  cdn_resources is 'local' jupyter notebook has issues displaying graphics on chrome/safari. Use cdn_resources='in_line' or cdn_resources='remote' if you have issues viewing graphics in a notebook.\n",
      "H.html\n"
     ]
    },
    {
     "data": {
      "text/html": [
       "\n",
       "        <iframe\n",
       "            width=\"1000px\"\n",
       "            height=\"1000px\"\n",
       "            src=\"H.html\"\n",
       "            frameborder=\"0\"\n",
       "            allowfullscreen\n",
       "            \n",
       "        ></iframe>\n",
       "        "
      ],
      "text/plain": [
       "<IPython.lib.display.IFrame at 0x27b4c7b4a50>"
      ]
     },
     "execution_count": 116,
     "metadata": {},
     "output_type": "execute_result"
    }
   ],
   "source": [
    "nt = net.Network('1000px', '1000px', directed=False, notebook = True)\n",
    "nt.toggle_physics(False)\n",
    "nt.from_nx(H)\n",
    "nt.show('H.html')"
   ]
  },
  {
   "cell_type": "markdown",
   "metadata": {},
   "source": [
    "## Identify mutually exclusive connections"
   ]
  },
  {
   "cell_type": "code",
   "execution_count": 27,
   "metadata": {},
   "outputs": [
    {
     "data": {
      "text/plain": [
       "[{'4333', '6059', '7182', '9703'},\n",
       " {'4297', '5573', '7266', '7369', '9795'},\n",
       " {'5788', '8914', '9722', '9962'},\n",
       " {'6333', '7881', '7911', '9751', '9797'},\n",
       " {'4205', '474', '5366', '5376', '8708', '9789'}]"
      ]
     },
     "execution_count": 27,
     "metadata": {},
     "output_type": "execute_result"
    }
   ],
   "source": [
    "list(nx.connected_components(H))[0:5]"
   ]
  },
  {
   "cell_type": "code",
   "execution_count": 117,
   "metadata": {},
   "outputs": [
    {
     "data": {
      "text/plain": [
       "1041"
      ]
     },
     "execution_count": 117,
     "metadata": {},
     "output_type": "execute_result"
    }
   ],
   "source": [
    "len(list(nx.connected_components(H)))"
   ]
  },
  {
   "cell_type": "markdown",
   "metadata": {},
   "source": [
    "<h3>Assign community to each node</h3>"
   ]
  },
  {
   "cell_type": "code",
   "execution_count": 118,
   "metadata": {},
   "outputs": [],
   "source": [
    "group_dict_H = {}\n",
    "\n",
    "for group, nodes in enumerate(sorted(list(nx.connected_components(H)), key=len, reverse=True), start=1):\n",
    "    for node in nodes:\n",
    "        group_dict_H[node] = group"
   ]
  },
  {
   "cell_type": "code",
   "execution_count": 30,
   "metadata": {},
   "outputs": [],
   "source": [
    "## Alternative algorithm for community detection\n",
    "## https://python-louvain.readthedocs.io/en/latest/api.html\n",
    "## NOT RECOMMENDED FOR MONEY LAUNDERING DETECTION\n",
    "\n",
    "# import community.community_louvain as community_louvain\n",
    "# group_dict_H = community_louvain.best_partition(G, random_state=721)\n",
    "\n",
    "## Other algorithms: https://networkx.org/documentation/stable/reference/algorithms/community.html"
   ]
  },
  {
   "cell_type": "code",
   "execution_count": 119,
   "metadata": {},
   "outputs": [
    {
     "data": {
      "text/html": [
       "<div>\n",
       "<style scoped>\n",
       "    .dataframe tbody tr th:only-of-type {\n",
       "        vertical-align: middle;\n",
       "    }\n",
       "\n",
       "    .dataframe tbody tr th {\n",
       "        vertical-align: top;\n",
       "    }\n",
       "\n",
       "    .dataframe thead th {\n",
       "        text-align: right;\n",
       "    }\n",
       "</style>\n",
       "<table border=\"1\" class=\"dataframe\">\n",
       "  <thead>\n",
       "    <tr style=\"text-align: right;\">\n",
       "      <th></th>\n",
       "      <th>source</th>\n",
       "      <th>group</th>\n",
       "    </tr>\n",
       "  </thead>\n",
       "  <tbody>\n",
       "    <tr>\n",
       "      <th>41</th>\n",
       "      <td>1087</td>\n",
       "      <td>1</td>\n",
       "    </tr>\n",
       "    <tr>\n",
       "      <th>29</th>\n",
       "      <td>1609</td>\n",
       "      <td>1</td>\n",
       "    </tr>\n",
       "    <tr>\n",
       "      <th>30</th>\n",
       "      <td>1890</td>\n",
       "      <td>1</td>\n",
       "    </tr>\n",
       "    <tr>\n",
       "      <th>39</th>\n",
       "      <td>1905</td>\n",
       "      <td>1</td>\n",
       "    </tr>\n",
       "    <tr>\n",
       "      <th>46</th>\n",
       "      <td>2369</td>\n",
       "      <td>1</td>\n",
       "    </tr>\n",
       "    <tr>\n",
       "      <th>...</th>\n",
       "      <td>...</td>\n",
       "      <td>...</td>\n",
       "    </tr>\n",
       "    <tr>\n",
       "      <th>3035</th>\n",
       "      <td>5233</td>\n",
       "      <td>1039</td>\n",
       "    </tr>\n",
       "    <tr>\n",
       "      <th>3037</th>\n",
       "      <td>275</td>\n",
       "      <td>1040</td>\n",
       "    </tr>\n",
       "    <tr>\n",
       "      <th>3036</th>\n",
       "      <td>998</td>\n",
       "      <td>1040</td>\n",
       "    </tr>\n",
       "    <tr>\n",
       "      <th>3039</th>\n",
       "      <td>7693</td>\n",
       "      <td>1041</td>\n",
       "    </tr>\n",
       "    <tr>\n",
       "      <th>3038</th>\n",
       "      <td>8141</td>\n",
       "      <td>1041</td>\n",
       "    </tr>\n",
       "  </tbody>\n",
       "</table>\n",
       "<p>3040 rows × 2 columns</p>\n",
       "</div>"
      ],
      "text/plain": [
       "     source  group\n",
       "41     1087      1\n",
       "29     1609      1\n",
       "30     1890      1\n",
       "39     1905      1\n",
       "46     2369      1\n",
       "...     ...    ...\n",
       "3035   5233   1039\n",
       "3037    275   1040\n",
       "3036    998   1040\n",
       "3039   7693   1041\n",
       "3038   8141   1041\n",
       "\n",
       "[3040 rows x 2 columns]"
      ]
     },
     "execution_count": 119,
     "metadata": {},
     "output_type": "execute_result"
    }
   ],
   "source": [
    "groups = pd.DataFrame({'source':group_dict_H.keys(), 'group':group_dict_H.values()}).sort_values(by=['group','source'])\n",
    "groups"
   ]
  },
  {
   "cell_type": "code",
   "execution_count": 120,
   "metadata": {},
   "outputs": [
    {
     "data": {
      "text/html": [
       "<div>\n",
       "<style scoped>\n",
       "    .dataframe tbody tr th:only-of-type {\n",
       "        vertical-align: middle;\n",
       "    }\n",
       "\n",
       "    .dataframe tbody tr th {\n",
       "        vertical-align: top;\n",
       "    }\n",
       "\n",
       "    .dataframe thead th {\n",
       "        text-align: right;\n",
       "    }\n",
       "</style>\n",
       "<table border=\"1\" class=\"dataframe\">\n",
       "  <thead>\n",
       "    <tr style=\"text-align: right;\">\n",
       "      <th></th>\n",
       "      <th>group</th>\n",
       "      <th>num_of_nodes</th>\n",
       "    </tr>\n",
       "  </thead>\n",
       "  <tbody>\n",
       "    <tr>\n",
       "      <th>0</th>\n",
       "      <td>1</td>\n",
       "      <td>64</td>\n",
       "    </tr>\n",
       "    <tr>\n",
       "      <th>1</th>\n",
       "      <td>2</td>\n",
       "      <td>35</td>\n",
       "    </tr>\n",
       "    <tr>\n",
       "      <th>2</th>\n",
       "      <td>3</td>\n",
       "      <td>27</td>\n",
       "    </tr>\n",
       "    <tr>\n",
       "      <th>3</th>\n",
       "      <td>4</td>\n",
       "      <td>24</td>\n",
       "    </tr>\n",
       "    <tr>\n",
       "      <th>4</th>\n",
       "      <td>5</td>\n",
       "      <td>21</td>\n",
       "    </tr>\n",
       "    <tr>\n",
       "      <th>...</th>\n",
       "      <td>...</td>\n",
       "      <td>...</td>\n",
       "    </tr>\n",
       "    <tr>\n",
       "      <th>1036</th>\n",
       "      <td>1037</td>\n",
       "      <td>2</td>\n",
       "    </tr>\n",
       "    <tr>\n",
       "      <th>1037</th>\n",
       "      <td>1038</td>\n",
       "      <td>2</td>\n",
       "    </tr>\n",
       "    <tr>\n",
       "      <th>1038</th>\n",
       "      <td>1039</td>\n",
       "      <td>2</td>\n",
       "    </tr>\n",
       "    <tr>\n",
       "      <th>1039</th>\n",
       "      <td>1040</td>\n",
       "      <td>2</td>\n",
       "    </tr>\n",
       "    <tr>\n",
       "      <th>1040</th>\n",
       "      <td>1041</td>\n",
       "      <td>2</td>\n",
       "    </tr>\n",
       "  </tbody>\n",
       "</table>\n",
       "<p>1041 rows × 2 columns</p>\n",
       "</div>"
      ],
      "text/plain": [
       "      group  num_of_nodes\n",
       "0         1            64\n",
       "1         2            35\n",
       "2         3            27\n",
       "3         4            24\n",
       "4         5            21\n",
       "...     ...           ...\n",
       "1036   1037             2\n",
       "1037   1038             2\n",
       "1038   1039             2\n",
       "1039   1040             2\n",
       "1040   1041             2\n",
       "\n",
       "[1041 rows x 2 columns]"
      ]
     },
     "execution_count": 120,
     "metadata": {},
     "output_type": "execute_result"
    }
   ],
   "source": [
    "group_summary = groups.groupby('group', as_index=False).agg({'source':'count'}).rename(columns={'source':'num_of_nodes'})\n",
    "group_summary"
   ]
  },
  {
   "cell_type": "markdown",
   "metadata": {},
   "source": [
    "<h3>Display ID, group, degree and neighbors in graph (hover on node)</h3>"
   ]
  },
  {
   "cell_type": "code",
   "execution_count": 121,
   "metadata": {},
   "outputs": [],
   "source": [
    "nx.set_node_attributes(H, group_dict_H, 'group')\n",
    "\n",
    "degree_dict_H = dict(H.degree)\n",
    "nx.set_node_attributes(H, degree_dict_H, 'value')\n",
    "\n",
    "neighbor_dict_H = {}\n",
    "for node in list(H.nodes):\n",
    "    neighbor_dict_H[node] = ','.join(H.neighbors(node))\n",
    "\n",
    "title_dict_H = {}\n",
    "for node in list(H.nodes):\n",
    "    title_dict_H[node] = f'id: {node}\\ngroup: {group_dict_H[node]}\\ndegree: {degree_dict_H[node]}\\nneighbor: {neighbor_dict_H[node]}'\n",
    "nx.set_node_attributes(H, title_dict_H, 'title')"
   ]
  },
  {
   "cell_type": "markdown",
   "metadata": {},
   "source": [
    "<h3>Create subgraph to display selected groups only</h3>"
   ]
  },
  {
   "cell_type": "code",
   "execution_count": 122,
   "metadata": {},
   "outputs": [],
   "source": [
    "target_groups = [1,2,3,4]\n",
    "target_nodes = [node for node, group in group_dict_H.items() if group in target_groups]\n",
    "\n",
    "H_sub = H.subgraph(target_nodes)"
   ]
  },
  {
   "cell_type": "markdown",
   "metadata": {},
   "source": [
    "<h3>Display group 1-4 with pyvis default layout</h3>"
   ]
  },
  {
   "cell_type": "code",
   "execution_count": 125,
   "metadata": {},
   "outputs": [
    {
     "name": "stdout",
     "output_type": "stream",
     "text": [
      "H_sub.html\n"
     ]
    },
    {
     "data": {
      "text/html": [
       "\n",
       "        <iframe\n",
       "            width=\"1000px\"\n",
       "            height=\"1000px\"\n",
       "            src=\"H_sub.html\"\n",
       "            frameborder=\"0\"\n",
       "            allowfullscreen\n",
       "            \n",
       "        ></iframe>\n",
       "        "
      ],
      "text/plain": [
       "<IPython.lib.display.IFrame at 0x27b4af7ddd0>"
      ]
     },
     "execution_count": 125,
     "metadata": {},
     "output_type": "execute_result"
    }
   ],
   "source": [
    "#show_graph(H_sub)\n",
    "nt = net.Network('1000px', '1000px', directed=True, notebook = True, cdn_resources='remote')\n",
    "nt.from_nx(H_sub)\n",
    "#    html = nt.generate_html()\n",
    "#    with open(\"graph.html\", mode='w', encoding='utf-8') as fp:\n",
    "#        fp.write(html)\n",
    "#        display(HTML(html))\n",
    "nt.show('H_sub.html')"
   ]
  },
  {
   "cell_type": "markdown",
   "metadata": {},
   "source": [
    "<h3>Display group 1-4 with networkx kamada kawai layout</h3>"
   ]
  },
  {
   "cell_type": "code",
   "execution_count": 126,
   "metadata": {},
   "outputs": [
    {
     "name": "stdout",
     "output_type": "stream",
     "text": [
      "H_sub.html\n"
     ]
    },
    {
     "data": {
      "text/html": [
       "\n",
       "        <iframe\n",
       "            width=\"1000px\"\n",
       "            height=\"1000px\"\n",
       "            src=\"H_sub.html\"\n",
       "            frameborder=\"0\"\n",
       "            allowfullscreen\n",
       "            \n",
       "        ></iframe>\n",
       "        "
      ],
      "text/plain": [
       "<IPython.lib.display.IFrame at 0x27b4c918cd0>"
      ]
     },
     "execution_count": 126,
     "metadata": {},
     "output_type": "execute_result"
    }
   ],
   "source": [
    "nt = net.Network('1000px', '1000px', directed=True, notebook = True, cdn_resources='remote')\n",
    "nt.from_nx(H_sub)\n",
    "\n",
    "pos = nx.kamada_kawai_layout(H_sub, scale=1000)\n",
    "for node in nt.nodes:\n",
    "    node['x'] = pos[node['id']][0]\n",
    "    node['y'] = pos[node['id']][1]\n",
    "\n",
    "nt.show('H_sub.html')"
   ]
  },
  {
   "cell_type": "markdown",
   "metadata": {},
   "source": [
    "<h3>Display group 1-4 with networkx spring layout</h3>"
   ]
  },
  {
   "cell_type": "code",
   "execution_count": 127,
   "metadata": {},
   "outputs": [
    {
     "name": "stdout",
     "output_type": "stream",
     "text": [
      "H_sub.html\n"
     ]
    },
    {
     "data": {
      "text/html": [
       "\n",
       "        <iframe\n",
       "            width=\"1000px\"\n",
       "            height=\"1000px\"\n",
       "            src=\"H_sub.html\"\n",
       "            frameborder=\"0\"\n",
       "            allowfullscreen\n",
       "            \n",
       "        ></iframe>\n",
       "        "
      ],
      "text/plain": [
       "<IPython.lib.display.IFrame at 0x27b4ced7910>"
      ]
     },
     "execution_count": 127,
     "metadata": {},
     "output_type": "execute_result"
    }
   ],
   "source": [
    "nt = net.Network('1000px', '1000px', directed=True, notebook = True, cdn_resources='remote')\n",
    "nt.from_nx(H_sub)\n",
    "\n",
    "pos = nx.spring_layout(H_sub, scale=1000, seed=721, k=0.01)\n",
    "for node in nt.nodes:\n",
    "    node['x'] = pos[node['id']][0]\n",
    "    node['y'] = pos[node['id']][1]\n",
    "\n",
    "nt.show('H_sub.html')"
   ]
  },
  {
   "cell_type": "markdown",
   "metadata": {},
   "source": [
    "<h3>Identify end-to-end fund flow of any given node</h3>"
   ]
  },
  {
   "cell_type": "code",
   "execution_count": 130,
   "metadata": {},
   "outputs": [
    {
     "name": "stdout",
     "output_type": "stream",
     "text": [
      "H_sub.html\n"
     ]
    },
    {
     "data": {
      "text/html": [
       "\n",
       "        <iframe\n",
       "            width=\"1000px\"\n",
       "            height=\"1000px\"\n",
       "            src=\"H_sub.html\"\n",
       "            frameborder=\"0\"\n",
       "            allowfullscreen\n",
       "            \n",
       "        ></iframe>\n",
       "        "
      ],
      "text/plain": [
       "<IPython.lib.display.IFrame at 0x27b4c7acc50>"
      ]
     },
     "execution_count": 130,
     "metadata": {},
     "output_type": "execute_result"
    }
   ],
   "source": [
    "target_node = '9989'\n",
    "target_groups = [dict(H.nodes(data=True))[target_node]['group']]\n",
    "target_nodes = [node for node, group in group_dict_H.items() if group in target_groups]\n",
    "\n",
    "H_sub = H.subgraph(target_nodes)\n",
    "\n",
    "nt = net.Network('1000px', '1000px', directed=True, notebook = True, cdn_resources='remote')\n",
    "nt.from_nx(H_sub)\n",
    "\n",
    "pos = nx.spring_layout(H_sub, scale=1000, seed=721, k=0.01)\n",
    "for node in nt.nodes:\n",
    "    node['x'] = pos[node['id']][0]\n",
    "    node['y'] = pos[node['id']][1]\n",
    "\n",
    "[node for node in nt.nodes if node['id']==target_node][0]['shape'] = 'image'\n",
    "[node for node in nt.nodes if node['id']==target_node][0]['image'] = 'https://openmoji.org/data/color/svg/1F608.svg'\n",
    "[node for node in nt.nodes if node['id']==target_node][0]['color'] = '#ff4f4f'\n",
    "\n",
    "nt.show('H_sub.html')"
   ]
  },
  {
   "cell_type": "markdown",
   "metadata": {},
   "source": [
    "<h3>Export node and edge information for further analysis</h3>"
   ]
  },
  {
   "cell_type": "code",
   "execution_count": 131,
   "metadata": {},
   "outputs": [
    {
     "data": {
      "text/html": [
       "<div>\n",
       "<style scoped>\n",
       "    .dataframe tbody tr th:only-of-type {\n",
       "        vertical-align: middle;\n",
       "    }\n",
       "\n",
       "    .dataframe tbody tr th {\n",
       "        vertical-align: top;\n",
       "    }\n",
       "\n",
       "    .dataframe thead th {\n",
       "        text-align: right;\n",
       "    }\n",
       "</style>\n",
       "<table border=\"1\" class=\"dataframe\">\n",
       "  <thead>\n",
       "    <tr style=\"text-align: right;\">\n",
       "      <th></th>\n",
       "      <th>source</th>\n",
       "      <th>group</th>\n",
       "      <th>degree</th>\n",
       "      <th>neighbor</th>\n",
       "    </tr>\n",
       "  </thead>\n",
       "  <tbody>\n",
       "    <tr>\n",
       "      <th>22</th>\n",
       "      <td>1503</td>\n",
       "      <td>4</td>\n",
       "      <td>1</td>\n",
       "      <td>9006</td>\n",
       "    </tr>\n",
       "    <tr>\n",
       "      <th>20</th>\n",
       "      <td>2394</td>\n",
       "      <td>4</td>\n",
       "      <td>2</td>\n",
       "      <td>6642,9158</td>\n",
       "    </tr>\n",
       "    <tr>\n",
       "      <th>16</th>\n",
       "      <td>5049</td>\n",
       "      <td>4</td>\n",
       "      <td>1</td>\n",
       "      <td>9989</td>\n",
       "    </tr>\n",
       "    <tr>\n",
       "      <th>21</th>\n",
       "      <td>6642</td>\n",
       "      <td>4</td>\n",
       "      <td>1</td>\n",
       "      <td>2394</td>\n",
       "    </tr>\n",
       "    <tr>\n",
       "      <th>18</th>\n",
       "      <td>6743</td>\n",
       "      <td>4</td>\n",
       "      <td>1</td>\n",
       "      <td>9912</td>\n",
       "    </tr>\n",
       "  </tbody>\n",
       "</table>\n",
       "</div>"
      ],
      "text/plain": [
       "   source  group  degree   neighbor\n",
       "22   1503      4       1       9006\n",
       "20   2394      4       2  6642,9158\n",
       "16   5049      4       1       9989\n",
       "21   6642      4       1       2394\n",
       "18   6743      4       1       9912"
      ]
     },
     "execution_count": 131,
     "metadata": {},
     "output_type": "execute_result"
    }
   ],
   "source": [
    "H_sub_nodes = pd.DataFrame(nt.nodes)[['id','group','value','title']].rename(columns={'id':'source','value':'degree','title':'neighbor'}).sort_values(by='source')\n",
    "H_sub_nodes['neighbor'] = H_sub_nodes['neighbor'].apply(lambda x:x.split('neighbor: ')[-1])\n",
    "H_sub_nodes.head(5)"
   ]
  },
  {
   "cell_type": "code",
   "execution_count": 132,
   "metadata": {},
   "outputs": [
    {
     "data": {
      "text/html": [
       "<div>\n",
       "<style scoped>\n",
       "    .dataframe tbody tr th:only-of-type {\n",
       "        vertical-align: middle;\n",
       "    }\n",
       "\n",
       "    .dataframe tbody tr th {\n",
       "        vertical-align: top;\n",
       "    }\n",
       "\n",
       "    .dataframe thead th {\n",
       "        text-align: right;\n",
       "    }\n",
       "</style>\n",
       "<table border=\"1\" class=\"dataframe\">\n",
       "  <thead>\n",
       "    <tr style=\"text-align: right;\">\n",
       "      <th></th>\n",
       "      <th>source</th>\n",
       "      <th>target</th>\n",
       "      <th>agg_edge_large_count</th>\n",
       "      <th>agg_edge_large_amt</th>\n",
       "    </tr>\n",
       "  </thead>\n",
       "  <tbody>\n",
       "    <tr>\n",
       "      <th>6847</th>\n",
       "      <td>2394</td>\n",
       "      <td>9158</td>\n",
       "      <td>3</td>\n",
       "      <td>22,831,488</td>\n",
       "    </tr>\n",
       "    <tr>\n",
       "      <th>20399</th>\n",
       "      <td>5049</td>\n",
       "      <td>9989</td>\n",
       "      <td>24</td>\n",
       "      <td>371</td>\n",
       "    </tr>\n",
       "    <tr>\n",
       "      <th>31225</th>\n",
       "      <td>6642</td>\n",
       "      <td>2394</td>\n",
       "      <td>20</td>\n",
       "      <td>3,114</td>\n",
       "    </tr>\n",
       "    <tr>\n",
       "      <th>32421</th>\n",
       "      <td>6743</td>\n",
       "      <td>9912</td>\n",
       "      <td>20</td>\n",
       "      <td>2,012</td>\n",
       "    </tr>\n",
       "    <tr>\n",
       "      <th>34844</th>\n",
       "      <td>7119</td>\n",
       "      <td>9587</td>\n",
       "      <td>24</td>\n",
       "      <td>363</td>\n",
       "    </tr>\n",
       "  </tbody>\n",
       "</table>\n",
       "</div>"
      ],
      "text/plain": [
       "      source target  agg_edge_large_count  agg_edge_large_amt\n",
       "6847    2394   9158                     3          22,831,488\n",
       "20399   5049   9989                    24                 371\n",
       "31225   6642   2394                    20               3,114\n",
       "32421   6743   9912                    20               2,012\n",
       "34844   7119   9587                    24                 363"
      ]
     },
     "execution_count": 132,
     "metadata": {},
     "output_type": "execute_result"
    }
   ],
   "source": [
    "H_sub_edges = edge_large[(edge_large['source'].isin(target_nodes)) | (edge_large['target'].isin(target_nodes))].drop(columns=['value','title']).sort_values(by=['source','target'])\n",
    "H_sub_edges.head()"
   ]
  },
  {
   "cell_type": "markdown",
   "metadata": {},
   "source": [
    "<h2>How to Determine Sampling Period</h2>"
   ]
  },
  {
   "cell_type": "code",
   "execution_count": 133,
   "metadata": {},
   "outputs": [
    {
     "data": {
      "text/html": [
       "<div>\n",
       "<style scoped>\n",
       "    .dataframe tbody tr th:only-of-type {\n",
       "        vertical-align: middle;\n",
       "    }\n",
       "\n",
       "    .dataframe tbody tr th {\n",
       "        vertical-align: top;\n",
       "    }\n",
       "\n",
       "    .dataframe thead th {\n",
       "        text-align: right;\n",
       "    }\n",
       "</style>\n",
       "<table border=\"1\" class=\"dataframe\">\n",
       "  <thead>\n",
       "    <tr style=\"text-align: right;\">\n",
       "      <th></th>\n",
       "      <th>sample_size</th>\n",
       "      <th>max_group_size</th>\n",
       "    </tr>\n",
       "  </thead>\n",
       "  <tbody>\n",
       "    <tr>\n",
       "      <th>0</th>\n",
       "      <td>1000</td>\n",
       "      <td>11</td>\n",
       "    </tr>\n",
       "    <tr>\n",
       "      <th>1</th>\n",
       "      <td>1500</td>\n",
       "      <td>28</td>\n",
       "    </tr>\n",
       "    <tr>\n",
       "      <th>2</th>\n",
       "      <td>2000</td>\n",
       "      <td>64</td>\n",
       "    </tr>\n",
       "    <tr>\n",
       "      <th>3</th>\n",
       "      <td>2500</td>\n",
       "      <td>121</td>\n",
       "    </tr>\n",
       "    <tr>\n",
       "      <th>4</th>\n",
       "      <td>3000</td>\n",
       "      <td>406</td>\n",
       "    </tr>\n",
       "    <tr>\n",
       "      <th>...</th>\n",
       "      <td>...</td>\n",
       "      <td>...</td>\n",
       "    </tr>\n",
       "    <tr>\n",
       "      <th>131</th>\n",
       "      <td>66500</td>\n",
       "      <td>9995</td>\n",
       "    </tr>\n",
       "    <tr>\n",
       "      <th>132</th>\n",
       "      <td>67000</td>\n",
       "      <td>9997</td>\n",
       "    </tr>\n",
       "    <tr>\n",
       "      <th>133</th>\n",
       "      <td>67500</td>\n",
       "      <td>9998</td>\n",
       "    </tr>\n",
       "    <tr>\n",
       "      <th>134</th>\n",
       "      <td>68000</td>\n",
       "      <td>9999</td>\n",
       "    </tr>\n",
       "    <tr>\n",
       "      <th>135</th>\n",
       "      <td>68500</td>\n",
       "      <td>9999</td>\n",
       "    </tr>\n",
       "  </tbody>\n",
       "</table>\n",
       "<p>136 rows × 2 columns</p>\n",
       "</div>"
      ],
      "text/plain": [
       "     sample_size  max_group_size\n",
       "0           1000              11\n",
       "1           1500              28\n",
       "2           2000              64\n",
       "3           2500             121\n",
       "4           3000             406\n",
       "..           ...             ...\n",
       "131        66500            9995\n",
       "132        67000            9997\n",
       "133        67500            9998\n",
       "134        68000            9999\n",
       "135        68500            9999\n",
       "\n",
       "[136 rows x 2 columns]"
      ]
     },
     "execution_count": 133,
     "metadata": {},
     "output_type": "execute_result"
    }
   ],
   "source": [
    "# Replace random sampling with different range of timeframe (e.g. week, month, quarter, year etc.) for real-life cases\n",
    "\n",
    "edge_full = txn_full.groupby(['SENDER_ACCOUNT_ID', 'RECEIVER_ACCOUNT_ID'],as_index=False).agg({'TX_AMOUNT':'count'}).drop(columns=['TX_AMOUNT']).rename(columns={'SENDER_ACCOUNT_ID':'source','RECEIVER_ACCOUNT_ID':'target'})\n",
    "\n",
    "max_dict = {}\n",
    "for i in range(1000, len(edge_full)+1, 500):\n",
    "    G = nx.from_pandas_edgelist(edge_full.sample(i, random_state=721), source='source', target='target')\n",
    "    max_dict[i] = max(sorted([len(x) for x in list(nx.connected_components(G))]))\n",
    "\n",
    "max_group_size_per_sample = pd.DataFrame({'sample_size':max_dict.keys(), 'max_group_size':max_dict.values()})\n",
    "max_group_size_per_sample"
   ]
  },
  {
   "cell_type": "code",
   "execution_count": 134,
   "metadata": {},
   "outputs": [
    {
     "data": {
      "image/png": "[encoded data removed]",
      "text/plain": [
       "<Figure size 1000x800 with 1 Axes>"
      ]
     },
     "metadata": {},
     "output_type": "display_data"
    }
   ],
   "source": [
    "max_group_size_per_sample.plot(x='sample_size', y='max_group_size', figsize=(10,8))\n",
    "plt.show()"
   ]
  },
  {
   "cell_type": "code",
   "execution_count": null,
   "metadata": {},
   "outputs": [],
   "source": []
  }
 ],
 "metadata": {
  "kernelspec": {
   "display_name": "Python 3 (ipykernel)",
   "language": "python",
   "name": "python3"
  },
  "language_info": {
   "codemirror_mode": {
    "name": "ipython",
    "version": 3
   },
   "file_extension": ".py",
   "mimetype": "text/x-python",
   "name": "python",
   "nbconvert_exporter": "python",
   "pygments_lexer": "ipython3",
   "version": "3.11.8"
  },
  "vscode": {
   "interpreter": {
    "hash": "ad2bdc8ecc057115af97d19610ffacc2b4e99fae6737bb82f5d7fb13d2f2c186"
   }
  }
 },
 "nbformat": 4,
 "nbformat_minor": 4
}
